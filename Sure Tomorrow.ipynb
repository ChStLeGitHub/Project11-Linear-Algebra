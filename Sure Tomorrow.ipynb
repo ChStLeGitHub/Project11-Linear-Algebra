{
 "cells": [
  {
   "cell_type": "markdown",
   "metadata": {},
   "source": [
    "# Table of Contents"
   ]
  },
  {
   "cell_type": "markdown",
   "metadata": {},
   "source": [
    "[Introduction](#1)\n",
    "\n",
    "[Data Exploration](#2)\n",
    "- [Preprocessing](#2.1)\n",
    "- [EDA (Exploratory Data Analysis)](#2.2)\n",
    "\n",
    "[Task 1: Similar Customers](#3)\n",
    "\n",
    "[Task 2: Is The Customer Likely to Receive Insurance Benefits?](#4)\n",
    "\n",
    "[Task 3: Linear Regression](#5)\n",
    "\n",
    "[Task 4: Obfuscating Data](#6)\n",
    "- [Proof That Data Obfuscation Can Work with Linear Regression](#6.1)\n",
    "- [Test the Linear Regression With Data Obfuscation](#6.2)\n",
    "\n",
    "[Conclusion](#7)\n",
    "\n",
    "[Appendices](#8)"
   ]
  },
  {
   "cell_type": "markdown",
   "metadata": {},
   "source": [
    "# Introduction <a id = 1></a>"
   ]
  },
  {
   "cell_type": "markdown",
   "metadata": {},
   "source": [
    "The <u>Sure Tomorrow</u> insurance company wants to solve several tasks with the help of Machine Learning, and I am tasked with solving them.\n",
    "\n",
    "<b>Task 1:</b> Find customers who are similar to a given customer. This will help the company's agents with marketing.\n",
    "\n",
    "<b>Task 2:</b> Predict whether a new customer is likely to receive an insurance benefit. Can a prediction model do better than a dummy model?\n",
    "\n",
    "<b>Task 3:</b> Predict the number of insurance benefits a new customer is likely to receive using a linear regression model.\n",
    "\n",
    "<b>Task 4:</b> Protect customers' personal data without breaking the model from the previous task. It's necessary to develop a data transformation algorithm that would make it hard to recover personal information if the data fell into the wrong hands. (This is called data masking, or data obfuscation.) Furthermore, the data should be protected in such a way that the quality of the machine learning models does not suffer."
   ]
  },
  {
   "cell_type": "code",
   "execution_count": 1,
   "metadata": {},
   "outputs": [],
   "source": [
    "import math\n",
    "import numpy as np\n",
    "import pandas as pd\n",
    "import seaborn as sns\n",
    "\n",
    "import sklearn.linear_model\n",
    "import sklearn.metrics\n",
    "import sklearn.neighbors\n",
    "import sklearn.preprocessing\n",
    "\n",
    "from sklearn.model_selection import train_test_split"
   ]
  },
  {
   "cell_type": "markdown",
   "metadata": {},
   "source": [
    "# Data Exploration <a id = 2></a>"
   ]
  },
  {
   "cell_type": "markdown",
   "metadata": {},
   "source": [
    "<b>Preprocessing</b> <a id = 2.1></a>"
   ]
  },
  {
   "cell_type": "markdown",
   "metadata": {},
   "source": [
    "Let's load the data and conduct a basic check to ensure that it is free from obvious issues."
   ]
  },
  {
   "cell_type": "code",
   "execution_count": 2,
   "metadata": {},
   "outputs": [],
   "source": [
    "main_df = pd.read_csv('insurance_us.csv')"
   ]
  },
  {
   "cell_type": "markdown",
   "metadata": {},
   "source": [
    "Now let's rename the columns so that they are written in snake_case."
   ]
  },
  {
   "cell_type": "code",
   "execution_count": 3,
   "metadata": {},
   "outputs": [],
   "source": [
    "main_df = main_df.rename(columns = {'Gender': 'gender', 'Age': 'age', 'Salary': 'income', \n",
    "                                    'Family members': 'family_members', 'Insurance benefits': 'insurance_benefits'})"
   ]
  },
  {
   "cell_type": "markdown",
   "metadata": {},
   "source": [
    "I think it is always a good idea to display a random sample of rows from the dataframe in order to see what the rows look like."
   ]
  },
  {
   "cell_type": "code",
   "execution_count": 4,
   "metadata": {},
   "outputs": [
    {
     "data": {
      "text/html": [
       "<div>\n",
       "<style scoped>\n",
       "    .dataframe tbody tr th:only-of-type {\n",
       "        vertical-align: middle;\n",
       "    }\n",
       "\n",
       "    .dataframe tbody tr th {\n",
       "        vertical-align: top;\n",
       "    }\n",
       "\n",
       "    .dataframe thead th {\n",
       "        text-align: right;\n",
       "    }\n",
       "</style>\n",
       "<table border=\"1\" class=\"dataframe\">\n",
       "  <thead>\n",
       "    <tr style=\"text-align: right;\">\n",
       "      <th></th>\n",
       "      <th>gender</th>\n",
       "      <th>age</th>\n",
       "      <th>income</th>\n",
       "      <th>family_members</th>\n",
       "      <th>insurance_benefits</th>\n",
       "    </tr>\n",
       "  </thead>\n",
       "  <tbody>\n",
       "    <tr>\n",
       "      <th>3558</th>\n",
       "      <td>1</td>\n",
       "      <td>33.0</td>\n",
       "      <td>40600.0</td>\n",
       "      <td>3</td>\n",
       "      <td>0</td>\n",
       "    </tr>\n",
       "    <tr>\n",
       "      <th>4532</th>\n",
       "      <td>0</td>\n",
       "      <td>30.0</td>\n",
       "      <td>40400.0</td>\n",
       "      <td>0</td>\n",
       "      <td>0</td>\n",
       "    </tr>\n",
       "    <tr>\n",
       "      <th>2824</th>\n",
       "      <td>1</td>\n",
       "      <td>40.0</td>\n",
       "      <td>41900.0</td>\n",
       "      <td>1</td>\n",
       "      <td>0</td>\n",
       "    </tr>\n",
       "    <tr>\n",
       "      <th>205</th>\n",
       "      <td>0</td>\n",
       "      <td>25.0</td>\n",
       "      <td>45000.0</td>\n",
       "      <td>0</td>\n",
       "      <td>0</td>\n",
       "    </tr>\n",
       "    <tr>\n",
       "      <th>4255</th>\n",
       "      <td>1</td>\n",
       "      <td>24.0</td>\n",
       "      <td>55600.0</td>\n",
       "      <td>1</td>\n",
       "      <td>0</td>\n",
       "    </tr>\n",
       "    <tr>\n",
       "      <th>4176</th>\n",
       "      <td>0</td>\n",
       "      <td>39.0</td>\n",
       "      <td>35800.0</td>\n",
       "      <td>1</td>\n",
       "      <td>0</td>\n",
       "    </tr>\n",
       "    <tr>\n",
       "      <th>3751</th>\n",
       "      <td>0</td>\n",
       "      <td>35.0</td>\n",
       "      <td>44100.0</td>\n",
       "      <td>0</td>\n",
       "      <td>0</td>\n",
       "    </tr>\n",
       "    <tr>\n",
       "      <th>4415</th>\n",
       "      <td>1</td>\n",
       "      <td>19.0</td>\n",
       "      <td>46600.0</td>\n",
       "      <td>2</td>\n",
       "      <td>0</td>\n",
       "    </tr>\n",
       "    <tr>\n",
       "      <th>4940</th>\n",
       "      <td>1</td>\n",
       "      <td>39.0</td>\n",
       "      <td>42100.0</td>\n",
       "      <td>1</td>\n",
       "      <td>0</td>\n",
       "    </tr>\n",
       "    <tr>\n",
       "      <th>3523</th>\n",
       "      <td>0</td>\n",
       "      <td>35.0</td>\n",
       "      <td>37100.0</td>\n",
       "      <td>0</td>\n",
       "      <td>0</td>\n",
       "    </tr>\n",
       "  </tbody>\n",
       "</table>\n",
       "</div>"
      ],
      "text/plain": [
       "      gender   age   income  family_members  insurance_benefits\n",
       "3558       1  33.0  40600.0               3                   0\n",
       "4532       0  30.0  40400.0               0                   0\n",
       "2824       1  40.0  41900.0               1                   0\n",
       "205        0  25.0  45000.0               0                   0\n",
       "4255       1  24.0  55600.0               1                   0\n",
       "4176       0  39.0  35800.0               1                   0\n",
       "3751       0  35.0  44100.0               0                   0\n",
       "4415       1  19.0  46600.0               2                   0\n",
       "4940       1  39.0  42100.0               1                   0\n",
       "3523       0  35.0  37100.0               0                   0"
      ]
     },
     "execution_count": 4,
     "metadata": {},
     "output_type": "execute_result"
    }
   ],
   "source": [
    "main_df.sample(10)"
   ]
  },
  {
   "cell_type": "markdown",
   "metadata": {},
   "source": [
    "I wonder if the Dtypes are appropriate. Here is where the **info** function comes in handy."
   ]
  },
  {
   "cell_type": "code",
   "execution_count": 5,
   "metadata": {},
   "outputs": [
    {
     "name": "stdout",
     "output_type": "stream",
     "text": [
      "<class 'pandas.core.frame.DataFrame'>\n",
      "RangeIndex: 5000 entries, 0 to 4999\n",
      "Data columns (total 5 columns):\n",
      " #   Column              Non-Null Count  Dtype  \n",
      "---  ------              --------------  -----  \n",
      " 0   gender              5000 non-null   int64  \n",
      " 1   age                 5000 non-null   float64\n",
      " 2   income              5000 non-null   float64\n",
      " 3   family_members      5000 non-null   int64  \n",
      " 4   insurance_benefits  5000 non-null   int64  \n",
      "dtypes: float64(2), int64(3)\n",
      "memory usage: 195.4 KB\n"
     ]
    }
   ],
   "source": [
    "main_df.info()"
   ]
  },
  {
   "cell_type": "markdown",
   "metadata": {},
   "source": [
    "It is great to see that there are no null values! \n",
    "\n",
    "Thanks to the sample of 10 rows and the info function, I noticed that the **age** and **income** values have Dtype float64, and they all have 0 after the decimal.\n",
    "\n",
    "Since all of the digits after the decimal are 0, I might as well change the Dtypes of **age** and **income** to int64."
   ]
  },
  {
   "cell_type": "code",
   "execution_count": 6,
   "metadata": {},
   "outputs": [],
   "source": [
    "main_df['age'] = main_df['age'].astype(int)\n",
    "main_df['income'] = main_df['income'].astype(int)"
   ]
  },
  {
   "cell_type": "markdown",
   "metadata": {},
   "source": [
    "Let's see if the Dtype conversions were successful. "
   ]
  },
  {
   "cell_type": "code",
   "execution_count": 7,
   "metadata": {},
   "outputs": [
    {
     "name": "stdout",
     "output_type": "stream",
     "text": [
      "<class 'pandas.core.frame.DataFrame'>\n",
      "RangeIndex: 5000 entries, 0 to 4999\n",
      "Data columns (total 5 columns):\n",
      " #   Column              Non-Null Count  Dtype\n",
      "---  ------              --------------  -----\n",
      " 0   gender              5000 non-null   int64\n",
      " 1   age                 5000 non-null   int32\n",
      " 2   income              5000 non-null   int32\n",
      " 3   family_members      5000 non-null   int64\n",
      " 4   insurance_benefits  5000 non-null   int64\n",
      "dtypes: int32(2), int64(3)\n",
      "memory usage: 156.4 KB\n"
     ]
    }
   ],
   "source": [
    "main_df.info()"
   ]
  },
  {
   "cell_type": "markdown",
   "metadata": {},
   "source": [
    "Yes they were!"
   ]
  },
  {
   "cell_type": "markdown",
   "metadata": {},
   "source": [
    "I wonder if any of the rows in the dataframe are exact duplicates. If so, then they should be dropped because it is unlikely that two or more distinct people would coincidentally have the same gender, age, number of family members, and income."
   ]
  },
  {
   "cell_type": "code",
   "execution_count": 8,
   "metadata": {},
   "outputs": [
    {
     "data": {
      "text/html": [
       "<div>\n",
       "<style scoped>\n",
       "    .dataframe tbody tr th:only-of-type {\n",
       "        vertical-align: middle;\n",
       "    }\n",
       "\n",
       "    .dataframe tbody tr th {\n",
       "        vertical-align: top;\n",
       "    }\n",
       "\n",
       "    .dataframe thead th {\n",
       "        text-align: right;\n",
       "    }\n",
       "</style>\n",
       "<table border=\"1\" class=\"dataframe\">\n",
       "  <thead>\n",
       "    <tr style=\"text-align: right;\">\n",
       "      <th></th>\n",
       "      <th>gender</th>\n",
       "      <th>age</th>\n",
       "      <th>income</th>\n",
       "      <th>family_members</th>\n",
       "      <th>insurance_benefits</th>\n",
       "    </tr>\n",
       "  </thead>\n",
       "  <tbody>\n",
       "    <tr>\n",
       "      <th>281</th>\n",
       "      <td>1</td>\n",
       "      <td>39</td>\n",
       "      <td>48100</td>\n",
       "      <td>1</td>\n",
       "      <td>0</td>\n",
       "    </tr>\n",
       "    <tr>\n",
       "      <th>488</th>\n",
       "      <td>1</td>\n",
       "      <td>24</td>\n",
       "      <td>32900</td>\n",
       "      <td>1</td>\n",
       "      <td>0</td>\n",
       "    </tr>\n",
       "    <tr>\n",
       "      <th>513</th>\n",
       "      <td>0</td>\n",
       "      <td>31</td>\n",
       "      <td>37400</td>\n",
       "      <td>2</td>\n",
       "      <td>0</td>\n",
       "    </tr>\n",
       "    <tr>\n",
       "      <th>718</th>\n",
       "      <td>1</td>\n",
       "      <td>22</td>\n",
       "      <td>32600</td>\n",
       "      <td>1</td>\n",
       "      <td>0</td>\n",
       "    </tr>\n",
       "    <tr>\n",
       "      <th>785</th>\n",
       "      <td>0</td>\n",
       "      <td>20</td>\n",
       "      <td>35800</td>\n",
       "      <td>0</td>\n",
       "      <td>0</td>\n",
       "    </tr>\n",
       "    <tr>\n",
       "      <th>...</th>\n",
       "      <td>...</td>\n",
       "      <td>...</td>\n",
       "      <td>...</td>\n",
       "      <td>...</td>\n",
       "      <td>...</td>\n",
       "    </tr>\n",
       "    <tr>\n",
       "      <th>4793</th>\n",
       "      <td>1</td>\n",
       "      <td>24</td>\n",
       "      <td>37800</td>\n",
       "      <td>0</td>\n",
       "      <td>0</td>\n",
       "    </tr>\n",
       "    <tr>\n",
       "      <th>4902</th>\n",
       "      <td>1</td>\n",
       "      <td>35</td>\n",
       "      <td>38700</td>\n",
       "      <td>1</td>\n",
       "      <td>0</td>\n",
       "    </tr>\n",
       "    <tr>\n",
       "      <th>4935</th>\n",
       "      <td>1</td>\n",
       "      <td>19</td>\n",
       "      <td>32700</td>\n",
       "      <td>0</td>\n",
       "      <td>0</td>\n",
       "    </tr>\n",
       "    <tr>\n",
       "      <th>4945</th>\n",
       "      <td>1</td>\n",
       "      <td>21</td>\n",
       "      <td>45800</td>\n",
       "      <td>0</td>\n",
       "      <td>0</td>\n",
       "    </tr>\n",
       "    <tr>\n",
       "      <th>4965</th>\n",
       "      <td>0</td>\n",
       "      <td>22</td>\n",
       "      <td>40100</td>\n",
       "      <td>1</td>\n",
       "      <td>0</td>\n",
       "    </tr>\n",
       "  </tbody>\n",
       "</table>\n",
       "<p>153 rows × 5 columns</p>\n",
       "</div>"
      ],
      "text/plain": [
       "      gender  age  income  family_members  insurance_benefits\n",
       "281        1   39   48100               1                   0\n",
       "488        1   24   32900               1                   0\n",
       "513        0   31   37400               2                   0\n",
       "718        1   22   32600               1                   0\n",
       "785        0   20   35800               0                   0\n",
       "...      ...  ...     ...             ...                 ...\n",
       "4793       1   24   37800               0                   0\n",
       "4902       1   35   38700               1                   0\n",
       "4935       1   19   32700               0                   0\n",
       "4945       1   21   45800               0                   0\n",
       "4965       0   22   40100               1                   0\n",
       "\n",
       "[153 rows x 5 columns]"
      ]
     },
     "execution_count": 8,
     "metadata": {},
     "output_type": "execute_result"
    }
   ],
   "source": [
    "main_df[main_df.duplicated()]"
   ]
  },
  {
   "cell_type": "markdown",
   "metadata": {},
   "source": [
    "It turns out there are 153 duplicate rows, which get dropped in the following line."
   ]
  },
  {
   "cell_type": "code",
   "execution_count": 9,
   "metadata": {},
   "outputs": [],
   "source": [
    "main_df = main_df.drop_duplicates().reset_index(drop = True)"
   ]
  },
  {
   "cell_type": "code",
   "execution_count": 10,
   "metadata": {},
   "outputs": [
    {
     "name": "stdout",
     "output_type": "stream",
     "text": [
      "<class 'pandas.core.frame.DataFrame'>\n",
      "RangeIndex: 4847 entries, 0 to 4846\n",
      "Data columns (total 5 columns):\n",
      " #   Column              Non-Null Count  Dtype\n",
      "---  ------              --------------  -----\n",
      " 0   gender              4847 non-null   int64\n",
      " 1   age                 4847 non-null   int32\n",
      " 2   income              4847 non-null   int32\n",
      " 3   family_members      4847 non-null   int64\n",
      " 4   insurance_benefits  4847 non-null   int64\n",
      "dtypes: int32(2), int64(3)\n",
      "memory usage: 151.6 KB\n"
     ]
    }
   ],
   "source": [
    "main_df.info()"
   ]
  },
  {
   "cell_type": "markdown",
   "metadata": {},
   "source": [
    "This dataframe has gone from 5000 rows to 4847, which, thankfully, is a less than 5% decrease, so having done this should not negatively impact anything."
   ]
  },
  {
   "cell_type": "markdown",
   "metadata": {},
   "source": [
    "Now let's look at the descriptive statistics of each column to see if there are any outliers that should be dealt with."
   ]
  },
  {
   "cell_type": "code",
   "execution_count": 11,
   "metadata": {},
   "outputs": [
    {
     "data": {
      "text/plain": [
       "gender\n",
       "0    2431\n",
       "1    2416\n",
       "Name: count, dtype: int64"
      ]
     },
     "execution_count": 11,
     "metadata": {},
     "output_type": "execute_result"
    }
   ],
   "source": [
    "main_df['gender'].value_counts()"
   ]
  },
  {
   "cell_type": "markdown",
   "metadata": {},
   "source": [
    "Nothing unusual with the **gender** column! \n",
    "\n",
    "If anything, this column implies that it is nearly equally common for men to seek insurance from <u>Sure Tomorrow</u> as women."
   ]
  },
  {
   "cell_type": "code",
   "execution_count": 12,
   "metadata": {},
   "outputs": [
    {
     "data": {
      "text/plain": [
       "count    4847.000000\n",
       "mean       31.023932\n",
       "std         8.487995\n",
       "min        18.000000\n",
       "25%        24.000000\n",
       "50%        30.000000\n",
       "75%        37.000000\n",
       "max        65.000000\n",
       "Name: age, dtype: float64"
      ]
     },
     "execution_count": 12,
     "metadata": {},
     "output_type": "execute_result"
    }
   ],
   "source": [
    "main_df['age'].describe()"
   ]
  },
  {
   "cell_type": "markdown",
   "metadata": {},
   "source": [
    "Nothing unusual here either! The minimum **age** in the dataframe is 18, which makes sense because at age 18 an individual is considered an adult, and therefore can qualify for insurance. Also, the maximum age in the dataframe is 65, which is also a reasonable age for a person seeking to get insurance.\n",
    "\n",
    "Since the third quartile age is 37, that means more than 75% of <u>Sure Tomorrow</u> customers are between the ages of 18 and 40. My takeaway from this observation is that <u>Sure Tomorrow</u> tends to attract adults who are in early to mid adulthood."
   ]
  },
  {
   "cell_type": "code",
   "execution_count": 13,
   "metadata": {},
   "outputs": [
    {
     "data": {
      "text/plain": [
       "count     4847.000000\n",
       "mean     39895.811223\n",
       "std       9972.952441\n",
       "min       5300.000000\n",
       "25%      33200.000000\n",
       "50%      40200.000000\n",
       "75%      46600.000000\n",
       "max      79000.000000\n",
       "Name: income, dtype: float64"
      ]
     },
     "execution_count": 13,
     "metadata": {},
     "output_type": "execute_result"
    }
   ],
   "source": [
    "main_df['income'].describe()"
   ]
  },
  {
   "cell_type": "markdown",
   "metadata": {},
   "source": [
    "At first, I thought that the minimum **income** value, 5300, seemed very low, however I think low values like this are worth keeping because there are many reasons why a <u>Sure Tomorrow</u> customer would have this amount of income. For example, maybe the customer is a young adult who is only working part–time because they are also a full–time college student.\n",
    "\n",
    "If I used the IQR method for detecting outliers, then any income below 33200 – 1.5(46600 – 33200) = 13100 or above 46600 + 1.5(46600 – 33200) = 66700 would be considered an outlier. However, I will not drop any of the income \"outliers\" because none of them seem to be absurd in any way. In fact, dropping them might cause my models to lose valuable data, to the point that the models would not be as accurate as they otherwise would be.\n",
    "\n",
    "Notice also that the maximum income value is 79000, which means none of the customers in this dataframe make \"six figures\". I mention this because this implies that <u>Sure Tomorrow</u> appeals to adults who are lower or middle class."
   ]
  },
  {
   "cell_type": "code",
   "execution_count": 14,
   "metadata": {},
   "outputs": [
    {
     "data": {
      "text/plain": [
       "family_members\n",
       "1    1748\n",
       "0    1461\n",
       "2    1038\n",
       "3     437\n",
       "4     124\n",
       "5      32\n",
       "6       7\n",
       "Name: count, dtype: int64"
      ]
     },
     "execution_count": 14,
     "metadata": {},
     "output_type": "execute_result"
    }
   ],
   "source": [
    "main_df['family_members'].value_counts()"
   ]
  },
  {
   "cell_type": "markdown",
   "metadata": {},
   "source": [
    "Though having 0, 1, or 2 family members is far more common in this dataframe than having 3, 4, 5, or 6, I think those less common values are worth keeping because it is useful for <u>Sure Tomorrow</u> to know the extent to which larger families can qualify for benefits. With that said, it does appear as though <u>Sure Tomorrow</u> is more appealing to smaller families than larger ones."
   ]
  },
  {
   "cell_type": "code",
   "execution_count": 15,
   "metadata": {},
   "outputs": [
    {
     "data": {
      "text/plain": [
       "insurance_benefits\n",
       "0    4284\n",
       "1     423\n",
       "2     114\n",
       "3      18\n",
       "4       7\n",
       "5       1\n",
       "Name: count, dtype: int64"
      ]
     },
     "execution_count": 15,
     "metadata": {},
     "output_type": "execute_result"
    }
   ],
   "source": [
    "main_df['insurance_benefits'].value_counts()"
   ]
  },
  {
   "cell_type": "markdown",
   "metadata": {},
   "source": [
    "While it is rare for a customer to receive 3, 4, or 5 benefits, I don't think any of these values are outlandish enough to justify dropping their rows.\n",
    "\n",
    "On the other hand, I find it interesting how the <b><i>overwhelming majority</b></i> of people in the dataframe do not qualify for any benefits. This makes me wonder which features values tend to allow a person to qualify for at least one benefit."
   ]
  },
  {
   "cell_type": "markdown",
   "metadata": {},
   "source": [
    "<b>EDA (Exploratory Data Analysis)</b> <a id = 2.2></a>"
   ]
  },
  {
   "cell_type": "markdown",
   "metadata": {},
   "source": [
    "Let's see if a pair plot can help me identify ways to categorize the customers into groups."
   ]
  },
  {
   "cell_type": "code",
   "execution_count": 16,
   "metadata": {},
   "outputs": [
    {
     "data": {
      "image/png": "[encoded data removed]",
      "text/plain": [
       "<Figure size 1200x1200 with 30 Axes>"
      ]
     },
     "metadata": {},
     "output_type": "display_data"
    }
   ],
   "source": [
    "main_df_pair_plot = sns.pairplot(main_df, kind = 'hist')\n",
    "main_df_pair_plot.fig.set_size_inches(12, 12)"
   ]
  },
  {
   "cell_type": "markdown",
   "metadata": {},
   "source": [
    "Unfortunately, it is rather difficult to identify any obvious groups from the above pair plot. Maybe looking at the correlation values is a good idea?"
   ]
  },
  {
   "cell_type": "code",
   "execution_count": 17,
   "metadata": {},
   "outputs": [
    {
     "data": {
      "text/html": [
       "<div>\n",
       "<style scoped>\n",
       "    .dataframe tbody tr th:only-of-type {\n",
       "        vertical-align: middle;\n",
       "    }\n",
       "\n",
       "    .dataframe tbody tr th {\n",
       "        vertical-align: top;\n",
       "    }\n",
       "\n",
       "    .dataframe thead th {\n",
       "        text-align: right;\n",
       "    }\n",
       "</style>\n",
       "<table border=\"1\" class=\"dataframe\">\n",
       "  <thead>\n",
       "    <tr style=\"text-align: right;\">\n",
       "      <th></th>\n",
       "      <th>gender</th>\n",
       "      <th>age</th>\n",
       "      <th>income</th>\n",
       "      <th>family_members</th>\n",
       "      <th>insurance_benefits</th>\n",
       "    </tr>\n",
       "  </thead>\n",
       "  <tbody>\n",
       "    <tr>\n",
       "      <th>gender</th>\n",
       "      <td>1.000000</td>\n",
       "      <td>0.001953</td>\n",
       "      <td>0.015456</td>\n",
       "      <td>-0.007315</td>\n",
       "      <td>0.011565</td>\n",
       "    </tr>\n",
       "    <tr>\n",
       "      <th>age</th>\n",
       "      <td>0.001953</td>\n",
       "      <td>1.000000</td>\n",
       "      <td>-0.017386</td>\n",
       "      <td>-0.009064</td>\n",
       "      <td>0.654964</td>\n",
       "    </tr>\n",
       "    <tr>\n",
       "      <th>income</th>\n",
       "      <td>0.015456</td>\n",
       "      <td>-0.017386</td>\n",
       "      <td>1.000000</td>\n",
       "      <td>-0.031687</td>\n",
       "      <td>-0.013123</td>\n",
       "    </tr>\n",
       "    <tr>\n",
       "      <th>family_members</th>\n",
       "      <td>-0.007315</td>\n",
       "      <td>-0.009064</td>\n",
       "      <td>-0.031687</td>\n",
       "      <td>1.000000</td>\n",
       "      <td>-0.039303</td>\n",
       "    </tr>\n",
       "    <tr>\n",
       "      <th>insurance_benefits</th>\n",
       "      <td>0.011565</td>\n",
       "      <td>0.654964</td>\n",
       "      <td>-0.013123</td>\n",
       "      <td>-0.039303</td>\n",
       "      <td>1.000000</td>\n",
       "    </tr>\n",
       "  </tbody>\n",
       "</table>\n",
       "</div>"
      ],
      "text/plain": [
       "                      gender       age    income  family_members  \\\n",
       "gender              1.000000  0.001953  0.015456       -0.007315   \n",
       "age                 0.001953  1.000000 -0.017386       -0.009064   \n",
       "income              0.015456 -0.017386  1.000000       -0.031687   \n",
       "family_members     -0.007315 -0.009064 -0.031687        1.000000   \n",
       "insurance_benefits  0.011565  0.654964 -0.013123       -0.039303   \n",
       "\n",
       "                    insurance_benefits  \n",
       "gender                        0.011565  \n",
       "age                           0.654964  \n",
       "income                       -0.013123  \n",
       "family_members               -0.039303  \n",
       "insurance_benefits            1.000000  "
      ]
     },
     "execution_count": 17,
     "metadata": {},
     "output_type": "execute_result"
    }
   ],
   "source": [
    "main_df.corr()"
   ]
  },
  {
   "cell_type": "markdown",
   "metadata": {},
   "source": [
    "Sadly, the above correlation values are not very useful. \n",
    "\n",
    "The only correlation that is moderately strong, which a value of 0.654964, is the one between **age** and **insurance_benefits**. This implies that a customer's age is a moderately good predictor of how many insurance benefits the customer receives. Since the correlation is positive, that means older customers tend to receive a larger number of benefits than younger customers. \n",
    "\n",
    "Every other correlation value has an absolute value less than 0.1, meaning virtually no correlation between the features. I need to find a way to combine several variables simultaneously in order to reveal useful insights. Thankfully, Linear Algebra and Machine Learning are effective at this."
   ]
  },
  {
   "cell_type": "markdown",
   "metadata": {},
   "source": [
    "# Task 1: Similar Customers <a id = 3></a>"
   ]
  },
  {
   "cell_type": "markdown",
   "metadata": {},
   "source": [
    "One way to identify objects that make sense to group together, because they are very similar, is to develop a procedure (using machine learning) that returns k nearest neighbors (objects) for a given object based on the distance between the objects."
   ]
  },
  {
   "cell_type": "markdown",
   "metadata": {},
   "source": [
    "Here, I will write a function that returns the k nearest neighbors for an $n^{th}$ object based on a specified distance metric (either Euclidean or Manhattan). The number of received insurance benefits will not be taken into account for this task, since that is the target. \n",
    "\n",
    "The function will be tested using every possible combination of the following:\n",
    "\n",
    "<b>Scaling:</b>\n",
    "  - The data is not scaled\n",
    "  - The data is scaled with the [MaxAbsScaler](https://scikit-learn.org/stable/modules/generated/sklearn.preprocessing.MaxAbsScaler.html) scaler\n",
    "\n",
    "<b>Distance Metrics:</b>\n",
    "  - Euclidean\n",
    "  - Manhattan\n",
    "\n",
    "I will also answer these questions:\n",
    "- Does the data being not scaled affect the kNN algorithm? If so, how does that appear?\n",
    "- How similar are the results using the Manhattan distance metric, regardless of the scaling?"
   ]
  },
  {
   "cell_type": "code",
   "execution_count": 18,
   "metadata": {},
   "outputs": [],
   "source": [
    "features_names = ['gender', 'age', 'income', 'family_members']"
   ]
  },
  {
   "cell_type": "markdown",
   "metadata": {},
   "source": [
    "In the next line, I define the function **get_knn** where...\n",
    "\n",
    "- parameter df: The pandas DataFrame used to find similar objects within.\n",
    "- parameter n: The object number for which the nearest neighbours are looked for.\n",
    "- parameter k: The number of nearest neighbours to return.\n",
    "- parameter metric: The name of distance metric (Euclidean or Manhattan)"
   ]
  },
  {
   "cell_type": "code",
   "execution_count": 19,
   "metadata": {},
   "outputs": [],
   "source": [
    "def get_knn(df, n, k, metric):\n",
    "    nbrs = sklearn.neighbors.NearestNeighbors(n_neighbors = k, metric = metric)\n",
    "    nbrs.fit(df[features_names].values)\n",
    "    nbrs_distances, nbrs_indices = nbrs.kneighbors([df.iloc[n][features_names]], k, return_distance = True)\n",
    "    \n",
    "    df_res = pd.concat([df.iloc[nbrs_indices[0]], \n",
    "                        pd.DataFrame(nbrs_distances.T, index = nbrs_indices[0], columns = ['distance'])], axis = 1)\n",
    "    \n",
    "    return df_res"
   ]
  },
  {
   "cell_type": "markdown",
   "metadata": {},
   "source": [
    "Now let's scale the data."
   ]
  },
  {
   "cell_type": "code",
   "execution_count": 20,
   "metadata": {},
   "outputs": [
    {
     "name": "stderr",
     "output_type": "stream",
     "text": [
      "C:\\Users\\18604\\AppData\\Local\\Temp\\ipykernel_33668\\340739115.py:4: FutureWarning: Setting an item of incompatible dtype is deprecated and will raise in a future error of pandas. Value '[0.63076923 0.70769231 0.44615385 ... 0.30769231 0.33846154 0.43076923]' has dtype incompatible with int32, please explicitly cast to a compatible dtype first.\n",
      "  main_df_scaled.loc[:, features_names] = transformer_mas.transform(main_df[features_names].to_numpy())\n",
      "C:\\Users\\18604\\AppData\\Local\\Temp\\ipykernel_33668\\340739115.py:4: FutureWarning: Setting an item of incompatible dtype is deprecated and will raise in a future error of pandas. Value '[0.6278481  0.48101266 0.26582278 ... 0.42911392 0.41392405 0.51392405]' has dtype incompatible with int32, please explicitly cast to a compatible dtype first.\n",
      "  main_df_scaled.loc[:, features_names] = transformer_mas.transform(main_df[features_names].to_numpy())\n",
      "C:\\Users\\18604\\AppData\\Local\\Temp\\ipykernel_33668\\340739115.py:4: FutureWarning: Setting an item of incompatible dtype is deprecated and will raise in a future error of pandas. Value '[0.16666667 0.16666667 0.         ... 0.33333333 0.5        0.16666667]' has dtype incompatible with int64, please explicitly cast to a compatible dtype first.\n",
      "  main_df_scaled.loc[:, features_names] = transformer_mas.transform(main_df[features_names].to_numpy())\n"
     ]
    }
   ],
   "source": [
    "transformer_mas = sklearn.preprocessing.MaxAbsScaler().fit(main_df[features_names].to_numpy())\n",
    "\n",
    "main_df_scaled = main_df.copy()\n",
    "main_df_scaled.loc[:, features_names] = transformer_mas.transform(main_df[features_names].to_numpy())"
   ]
  },
  {
   "cell_type": "code",
   "execution_count": 21,
   "metadata": {},
   "outputs": [
    {
     "data": {
      "text/html": [
       "<div>\n",
       "<style scoped>\n",
       "    .dataframe tbody tr th:only-of-type {\n",
       "        vertical-align: middle;\n",
       "    }\n",
       "\n",
       "    .dataframe tbody tr th {\n",
       "        vertical-align: top;\n",
       "    }\n",
       "\n",
       "    .dataframe thead th {\n",
       "        text-align: right;\n",
       "    }\n",
       "</style>\n",
       "<table border=\"1\" class=\"dataframe\">\n",
       "  <thead>\n",
       "    <tr style=\"text-align: right;\">\n",
       "      <th></th>\n",
       "      <th>gender</th>\n",
       "      <th>age</th>\n",
       "      <th>income</th>\n",
       "      <th>family_members</th>\n",
       "      <th>insurance_benefits</th>\n",
       "    </tr>\n",
       "  </thead>\n",
       "  <tbody>\n",
       "    <tr>\n",
       "      <th>4578</th>\n",
       "      <td>0</td>\n",
       "      <td>0.630769</td>\n",
       "      <td>0.598734</td>\n",
       "      <td>0.333333</td>\n",
       "      <td>0</td>\n",
       "    </tr>\n",
       "    <tr>\n",
       "      <th>2898</th>\n",
       "      <td>1</td>\n",
       "      <td>0.430769</td>\n",
       "      <td>0.479747</td>\n",
       "      <td>0.000000</td>\n",
       "      <td>0</td>\n",
       "    </tr>\n",
       "    <tr>\n",
       "      <th>2139</th>\n",
       "      <td>1</td>\n",
       "      <td>0.369231</td>\n",
       "      <td>0.583544</td>\n",
       "      <td>0.333333</td>\n",
       "      <td>0</td>\n",
       "    </tr>\n",
       "    <tr>\n",
       "      <th>575</th>\n",
       "      <td>1</td>\n",
       "      <td>0.523077</td>\n",
       "      <td>0.441772</td>\n",
       "      <td>0.000000</td>\n",
       "      <td>0</td>\n",
       "    </tr>\n",
       "    <tr>\n",
       "      <th>4671</th>\n",
       "      <td>0</td>\n",
       "      <td>0.707692</td>\n",
       "      <td>0.611392</td>\n",
       "      <td>0.000000</td>\n",
       "      <td>1</td>\n",
       "    </tr>\n",
       "    <tr>\n",
       "      <th>3461</th>\n",
       "      <td>0</td>\n",
       "      <td>0.446154</td>\n",
       "      <td>0.430380</td>\n",
       "      <td>0.333333</td>\n",
       "      <td>0</td>\n",
       "    </tr>\n",
       "    <tr>\n",
       "      <th>2053</th>\n",
       "      <td>0</td>\n",
       "      <td>0.446154</td>\n",
       "      <td>0.440506</td>\n",
       "      <td>0.000000</td>\n",
       "      <td>0</td>\n",
       "    </tr>\n",
       "    <tr>\n",
       "      <th>2221</th>\n",
       "      <td>0</td>\n",
       "      <td>0.461538</td>\n",
       "      <td>0.606329</td>\n",
       "      <td>0.166667</td>\n",
       "      <td>0</td>\n",
       "    </tr>\n",
       "    <tr>\n",
       "      <th>3188</th>\n",
       "      <td>1</td>\n",
       "      <td>0.615385</td>\n",
       "      <td>0.736709</td>\n",
       "      <td>0.000000</td>\n",
       "      <td>0</td>\n",
       "    </tr>\n",
       "    <tr>\n",
       "      <th>4154</th>\n",
       "      <td>0</td>\n",
       "      <td>0.323077</td>\n",
       "      <td>0.481013</td>\n",
       "      <td>0.000000</td>\n",
       "      <td>0</td>\n",
       "    </tr>\n",
       "  </tbody>\n",
       "</table>\n",
       "</div>"
      ],
      "text/plain": [
       "      gender       age    income  family_members  insurance_benefits\n",
       "4578       0  0.630769  0.598734        0.333333                   0\n",
       "2898       1  0.430769  0.479747        0.000000                   0\n",
       "2139       1  0.369231  0.583544        0.333333                   0\n",
       "575        1  0.523077  0.441772        0.000000                   0\n",
       "4671       0  0.707692  0.611392        0.000000                   1\n",
       "3461       0  0.446154  0.430380        0.333333                   0\n",
       "2053       0  0.446154  0.440506        0.000000                   0\n",
       "2221       0  0.461538  0.606329        0.166667                   0\n",
       "3188       1  0.615385  0.736709        0.000000                   0\n",
       "4154       0  0.323077  0.481013        0.000000                   0"
      ]
     },
     "metadata": {},
     "output_type": "display_data"
    },
    {
     "name": "stdout",
     "output_type": "stream",
     "text": [
      "\n",
      "<class 'pandas.core.frame.DataFrame'>\n",
      "RangeIndex: 4847 entries, 0 to 4846\n",
      "Data columns (total 5 columns):\n",
      " #   Column              Non-Null Count  Dtype  \n",
      "---  ------              --------------  -----  \n",
      " 0   gender              4847 non-null   int64  \n",
      " 1   age                 4847 non-null   float64\n",
      " 2   income              4847 non-null   float64\n",
      " 3   family_members      4847 non-null   float64\n",
      " 4   insurance_benefits  4847 non-null   int64  \n",
      "dtypes: float64(3), int64(2)\n",
      "memory usage: 189.5 KB\n",
      "None\n"
     ]
    }
   ],
   "source": [
    "display(main_df_scaled.sample(10))\n",
    "print()\n",
    "print(main_df_scaled.info())"
   ]
  },
  {
   "cell_type": "markdown",
   "metadata": {},
   "source": [
    "It looks like the data was correctly scaled! Now let's test the **get_knn** function for every combination of scaling and distance metrics.\n",
    "\n",
    "Specifically, I will set n = 0 and k = 11 in order to find the 10 customers who are most similar to the first customer in the dataframe. (The reason why k needs to be set equal to 11 instead of 10 is because the first customer, n = 0, is counted as one of the 11.)"
   ]
  },
  {
   "cell_type": "code",
   "execution_count": 22,
   "metadata": {},
   "outputs": [
    {
     "data": {
      "text/html": [
       "<div>\n",
       "<style scoped>\n",
       "    .dataframe tbody tr th:only-of-type {\n",
       "        vertical-align: middle;\n",
       "    }\n",
       "\n",
       "    .dataframe tbody tr th {\n",
       "        vertical-align: top;\n",
       "    }\n",
       "\n",
       "    .dataframe thead th {\n",
       "        text-align: right;\n",
       "    }\n",
       "</style>\n",
       "<table border=\"1\" class=\"dataframe\">\n",
       "  <thead>\n",
       "    <tr style=\"text-align: right;\">\n",
       "      <th></th>\n",
       "      <th>gender</th>\n",
       "      <th>age</th>\n",
       "      <th>income</th>\n",
       "      <th>family_members</th>\n",
       "      <th>distance</th>\n",
       "    </tr>\n",
       "  </thead>\n",
       "  <tbody>\n",
       "    <tr>\n",
       "      <th>0</th>\n",
       "      <td>1</td>\n",
       "      <td>41</td>\n",
       "      <td>49600</td>\n",
       "      <td>1</td>\n",
       "      <td>0.000000</td>\n",
       "    </tr>\n",
       "    <tr>\n",
       "      <th>1992</th>\n",
       "      <td>1</td>\n",
       "      <td>41</td>\n",
       "      <td>49600</td>\n",
       "      <td>0</td>\n",
       "      <td>1.000000</td>\n",
       "    </tr>\n",
       "    <tr>\n",
       "      <th>1214</th>\n",
       "      <td>0</td>\n",
       "      <td>42</td>\n",
       "      <td>49600</td>\n",
       "      <td>0</td>\n",
       "      <td>1.732051</td>\n",
       "    </tr>\n",
       "    <tr>\n",
       "      <th>3916</th>\n",
       "      <td>1</td>\n",
       "      <td>44</td>\n",
       "      <td>49600</td>\n",
       "      <td>2</td>\n",
       "      <td>3.162278</td>\n",
       "    </tr>\n",
       "    <tr>\n",
       "      <th>3334</th>\n",
       "      <td>0</td>\n",
       "      <td>38</td>\n",
       "      <td>49600</td>\n",
       "      <td>0</td>\n",
       "      <td>3.316625</td>\n",
       "    </tr>\n",
       "    <tr>\n",
       "      <th>810</th>\n",
       "      <td>1</td>\n",
       "      <td>37</td>\n",
       "      <td>49600</td>\n",
       "      <td>2</td>\n",
       "      <td>4.123106</td>\n",
       "    </tr>\n",
       "    <tr>\n",
       "      <th>4520</th>\n",
       "      <td>0</td>\n",
       "      <td>45</td>\n",
       "      <td>49600</td>\n",
       "      <td>0</td>\n",
       "      <td>4.242641</td>\n",
       "    </tr>\n",
       "    <tr>\n",
       "      <th>2094</th>\n",
       "      <td>0</td>\n",
       "      <td>37</td>\n",
       "      <td>49600</td>\n",
       "      <td>2</td>\n",
       "      <td>4.242641</td>\n",
       "    </tr>\n",
       "    <tr>\n",
       "      <th>2311</th>\n",
       "      <td>1</td>\n",
       "      <td>46</td>\n",
       "      <td>49600</td>\n",
       "      <td>2</td>\n",
       "      <td>5.099020</td>\n",
       "    </tr>\n",
       "    <tr>\n",
       "      <th>3790</th>\n",
       "      <td>1</td>\n",
       "      <td>36</td>\n",
       "      <td>49600</td>\n",
       "      <td>0</td>\n",
       "      <td>5.099020</td>\n",
       "    </tr>\n",
       "    <tr>\n",
       "      <th>3590</th>\n",
       "      <td>1</td>\n",
       "      <td>33</td>\n",
       "      <td>49600</td>\n",
       "      <td>0</td>\n",
       "      <td>8.062258</td>\n",
       "    </tr>\n",
       "  </tbody>\n",
       "</table>\n",
       "</div>"
      ],
      "text/plain": [
       "      gender  age  income  family_members  distance\n",
       "0          1   41   49600               1  0.000000\n",
       "1992       1   41   49600               0  1.000000\n",
       "1214       0   42   49600               0  1.732051\n",
       "3916       1   44   49600               2  3.162278\n",
       "3334       0   38   49600               0  3.316625\n",
       "810        1   37   49600               2  4.123106\n",
       "4520       0   45   49600               0  4.242641\n",
       "2094       0   37   49600               2  4.242641\n",
       "2311       1   46   49600               2  5.099020\n",
       "3790       1   36   49600               0  5.099020\n",
       "3590       1   33   49600               0  8.062258"
      ]
     },
     "metadata": {},
     "output_type": "display_data"
    }
   ],
   "source": [
    "not_scaled_euclidean = get_knn(main_df[features_names], 0, 11, 'euclidean')\n",
    "display(not_scaled_euclidean)"
   ]
  },
  {
   "cell_type": "code",
   "execution_count": 23,
   "metadata": {},
   "outputs": [
    {
     "data": {
      "text/html": [
       "<div>\n",
       "<style scoped>\n",
       "    .dataframe tbody tr th:only-of-type {\n",
       "        vertical-align: middle;\n",
       "    }\n",
       "\n",
       "    .dataframe tbody tr th {\n",
       "        vertical-align: top;\n",
       "    }\n",
       "\n",
       "    .dataframe thead th {\n",
       "        text-align: right;\n",
       "    }\n",
       "</style>\n",
       "<table border=\"1\" class=\"dataframe\">\n",
       "  <thead>\n",
       "    <tr style=\"text-align: right;\">\n",
       "      <th></th>\n",
       "      <th>gender</th>\n",
       "      <th>age</th>\n",
       "      <th>income</th>\n",
       "      <th>family_members</th>\n",
       "      <th>distance</th>\n",
       "    </tr>\n",
       "  </thead>\n",
       "  <tbody>\n",
       "    <tr>\n",
       "      <th>0</th>\n",
       "      <td>1</td>\n",
       "      <td>0.630769</td>\n",
       "      <td>0.627848</td>\n",
       "      <td>0.166667</td>\n",
       "      <td>0.000000</td>\n",
       "    </tr>\n",
       "    <tr>\n",
       "      <th>2632</th>\n",
       "      <td>1</td>\n",
       "      <td>0.630769</td>\n",
       "      <td>0.634177</td>\n",
       "      <td>0.166667</td>\n",
       "      <td>0.006329</td>\n",
       "    </tr>\n",
       "    <tr>\n",
       "      <th>133</th>\n",
       "      <td>1</td>\n",
       "      <td>0.615385</td>\n",
       "      <td>0.636709</td>\n",
       "      <td>0.166667</td>\n",
       "      <td>0.017754</td>\n",
       "    </tr>\n",
       "    <tr>\n",
       "      <th>4720</th>\n",
       "      <td>1</td>\n",
       "      <td>0.646154</td>\n",
       "      <td>0.637975</td>\n",
       "      <td>0.166667</td>\n",
       "      <td>0.018418</td>\n",
       "    </tr>\n",
       "    <tr>\n",
       "      <th>3192</th>\n",
       "      <td>1</td>\n",
       "      <td>0.646154</td>\n",
       "      <td>0.651899</td>\n",
       "      <td>0.166667</td>\n",
       "      <td>0.028550</td>\n",
       "    </tr>\n",
       "    <tr>\n",
       "      <th>1550</th>\n",
       "      <td>1</td>\n",
       "      <td>0.615385</td>\n",
       "      <td>0.602532</td>\n",
       "      <td>0.166667</td>\n",
       "      <td>0.029624</td>\n",
       "    </tr>\n",
       "    <tr>\n",
       "      <th>2072</th>\n",
       "      <td>1</td>\n",
       "      <td>0.630769</td>\n",
       "      <td>0.596203</td>\n",
       "      <td>0.166667</td>\n",
       "      <td>0.031646</td>\n",
       "    </tr>\n",
       "    <tr>\n",
       "      <th>124</th>\n",
       "      <td>1</td>\n",
       "      <td>0.661538</td>\n",
       "      <td>0.635443</td>\n",
       "      <td>0.166667</td>\n",
       "      <td>0.031693</td>\n",
       "    </tr>\n",
       "    <tr>\n",
       "      <th>3541</th>\n",
       "      <td>1</td>\n",
       "      <td>0.615385</td>\n",
       "      <td>0.600000</td>\n",
       "      <td>0.166667</td>\n",
       "      <td>0.031815</td>\n",
       "    </tr>\n",
       "    <tr>\n",
       "      <th>3099</th>\n",
       "      <td>1</td>\n",
       "      <td>0.600000</td>\n",
       "      <td>0.611392</td>\n",
       "      <td>0.166667</td>\n",
       "      <td>0.034893</td>\n",
       "    </tr>\n",
       "    <tr>\n",
       "      <th>69</th>\n",
       "      <td>1</td>\n",
       "      <td>0.600000</td>\n",
       "      <td>0.608861</td>\n",
       "      <td>0.166667</td>\n",
       "      <td>0.036156</td>\n",
       "    </tr>\n",
       "  </tbody>\n",
       "</table>\n",
       "</div>"
      ],
      "text/plain": [
       "      gender       age    income  family_members  distance\n",
       "0          1  0.630769  0.627848        0.166667  0.000000\n",
       "2632       1  0.630769  0.634177        0.166667  0.006329\n",
       "133        1  0.615385  0.636709        0.166667  0.017754\n",
       "4720       1  0.646154  0.637975        0.166667  0.018418\n",
       "3192       1  0.646154  0.651899        0.166667  0.028550\n",
       "1550       1  0.615385  0.602532        0.166667  0.029624\n",
       "2072       1  0.630769  0.596203        0.166667  0.031646\n",
       "124        1  0.661538  0.635443        0.166667  0.031693\n",
       "3541       1  0.615385  0.600000        0.166667  0.031815\n",
       "3099       1  0.600000  0.611392        0.166667  0.034893\n",
       "69         1  0.600000  0.608861        0.166667  0.036156"
      ]
     },
     "metadata": {},
     "output_type": "display_data"
    }
   ],
   "source": [
    "scaled_euclidean = get_knn(main_df_scaled[features_names], 0, 11, 'euclidean')\n",
    "display(scaled_euclidean)"
   ]
  },
  {
   "cell_type": "code",
   "execution_count": 24,
   "metadata": {},
   "outputs": [
    {
     "data": {
      "text/html": [
       "<div>\n",
       "<style scoped>\n",
       "    .dataframe tbody tr th:only-of-type {\n",
       "        vertical-align: middle;\n",
       "    }\n",
       "\n",
       "    .dataframe tbody tr th {\n",
       "        vertical-align: top;\n",
       "    }\n",
       "\n",
       "    .dataframe thead th {\n",
       "        text-align: right;\n",
       "    }\n",
       "</style>\n",
       "<table border=\"1\" class=\"dataframe\">\n",
       "  <thead>\n",
       "    <tr style=\"text-align: right;\">\n",
       "      <th></th>\n",
       "      <th>gender</th>\n",
       "      <th>age</th>\n",
       "      <th>income</th>\n",
       "      <th>family_members</th>\n",
       "      <th>distance</th>\n",
       "    </tr>\n",
       "  </thead>\n",
       "  <tbody>\n",
       "    <tr>\n",
       "      <th>0</th>\n",
       "      <td>1</td>\n",
       "      <td>41</td>\n",
       "      <td>49600</td>\n",
       "      <td>1</td>\n",
       "      <td>0.0</td>\n",
       "    </tr>\n",
       "    <tr>\n",
       "      <th>1992</th>\n",
       "      <td>1</td>\n",
       "      <td>41</td>\n",
       "      <td>49600</td>\n",
       "      <td>0</td>\n",
       "      <td>1.0</td>\n",
       "    </tr>\n",
       "    <tr>\n",
       "      <th>1214</th>\n",
       "      <td>0</td>\n",
       "      <td>42</td>\n",
       "      <td>49600</td>\n",
       "      <td>0</td>\n",
       "      <td>3.0</td>\n",
       "    </tr>\n",
       "    <tr>\n",
       "      <th>3916</th>\n",
       "      <td>1</td>\n",
       "      <td>44</td>\n",
       "      <td>49600</td>\n",
       "      <td>2</td>\n",
       "      <td>4.0</td>\n",
       "    </tr>\n",
       "    <tr>\n",
       "      <th>3334</th>\n",
       "      <td>0</td>\n",
       "      <td>38</td>\n",
       "      <td>49600</td>\n",
       "      <td>0</td>\n",
       "      <td>5.0</td>\n",
       "    </tr>\n",
       "    <tr>\n",
       "      <th>810</th>\n",
       "      <td>1</td>\n",
       "      <td>37</td>\n",
       "      <td>49600</td>\n",
       "      <td>2</td>\n",
       "      <td>5.0</td>\n",
       "    </tr>\n",
       "    <tr>\n",
       "      <th>4520</th>\n",
       "      <td>0</td>\n",
       "      <td>45</td>\n",
       "      <td>49600</td>\n",
       "      <td>0</td>\n",
       "      <td>6.0</td>\n",
       "    </tr>\n",
       "    <tr>\n",
       "      <th>2094</th>\n",
       "      <td>0</td>\n",
       "      <td>37</td>\n",
       "      <td>49600</td>\n",
       "      <td>2</td>\n",
       "      <td>6.0</td>\n",
       "    </tr>\n",
       "    <tr>\n",
       "      <th>2311</th>\n",
       "      <td>1</td>\n",
       "      <td>46</td>\n",
       "      <td>49600</td>\n",
       "      <td>2</td>\n",
       "      <td>6.0</td>\n",
       "    </tr>\n",
       "    <tr>\n",
       "      <th>3790</th>\n",
       "      <td>1</td>\n",
       "      <td>36</td>\n",
       "      <td>49600</td>\n",
       "      <td>0</td>\n",
       "      <td>6.0</td>\n",
       "    </tr>\n",
       "    <tr>\n",
       "      <th>3590</th>\n",
       "      <td>1</td>\n",
       "      <td>33</td>\n",
       "      <td>49600</td>\n",
       "      <td>0</td>\n",
       "      <td>9.0</td>\n",
       "    </tr>\n",
       "  </tbody>\n",
       "</table>\n",
       "</div>"
      ],
      "text/plain": [
       "      gender  age  income  family_members  distance\n",
       "0          1   41   49600               1       0.0\n",
       "1992       1   41   49600               0       1.0\n",
       "1214       0   42   49600               0       3.0\n",
       "3916       1   44   49600               2       4.0\n",
       "3334       0   38   49600               0       5.0\n",
       "810        1   37   49600               2       5.0\n",
       "4520       0   45   49600               0       6.0\n",
       "2094       0   37   49600               2       6.0\n",
       "2311       1   46   49600               2       6.0\n",
       "3790       1   36   49600               0       6.0\n",
       "3590       1   33   49600               0       9.0"
      ]
     },
     "metadata": {},
     "output_type": "display_data"
    }
   ],
   "source": [
    "not_scaled_manhattan = get_knn(main_df[features_names], 0, 11, 'manhattan')\n",
    "display(not_scaled_manhattan)"
   ]
  },
  {
   "cell_type": "code",
   "execution_count": 25,
   "metadata": {},
   "outputs": [
    {
     "data": {
      "text/html": [
       "<div>\n",
       "<style scoped>\n",
       "    .dataframe tbody tr th:only-of-type {\n",
       "        vertical-align: middle;\n",
       "    }\n",
       "\n",
       "    .dataframe tbody tr th {\n",
       "        vertical-align: top;\n",
       "    }\n",
       "\n",
       "    .dataframe thead th {\n",
       "        text-align: right;\n",
       "    }\n",
       "</style>\n",
       "<table border=\"1\" class=\"dataframe\">\n",
       "  <thead>\n",
       "    <tr style=\"text-align: right;\">\n",
       "      <th></th>\n",
       "      <th>gender</th>\n",
       "      <th>age</th>\n",
       "      <th>income</th>\n",
       "      <th>family_members</th>\n",
       "      <th>distance</th>\n",
       "    </tr>\n",
       "  </thead>\n",
       "  <tbody>\n",
       "    <tr>\n",
       "      <th>0</th>\n",
       "      <td>1</td>\n",
       "      <td>0.630769</td>\n",
       "      <td>0.627848</td>\n",
       "      <td>0.166667</td>\n",
       "      <td>0.000000</td>\n",
       "    </tr>\n",
       "    <tr>\n",
       "      <th>2632</th>\n",
       "      <td>1</td>\n",
       "      <td>0.630769</td>\n",
       "      <td>0.634177</td>\n",
       "      <td>0.166667</td>\n",
       "      <td>0.006329</td>\n",
       "    </tr>\n",
       "    <tr>\n",
       "      <th>133</th>\n",
       "      <td>1</td>\n",
       "      <td>0.615385</td>\n",
       "      <td>0.636709</td>\n",
       "      <td>0.166667</td>\n",
       "      <td>0.024245</td>\n",
       "    </tr>\n",
       "    <tr>\n",
       "      <th>4720</th>\n",
       "      <td>1</td>\n",
       "      <td>0.646154</td>\n",
       "      <td>0.637975</td>\n",
       "      <td>0.166667</td>\n",
       "      <td>0.025511</td>\n",
       "    </tr>\n",
       "    <tr>\n",
       "      <th>2072</th>\n",
       "      <td>1</td>\n",
       "      <td>0.630769</td>\n",
       "      <td>0.596203</td>\n",
       "      <td>0.166667</td>\n",
       "      <td>0.031646</td>\n",
       "    </tr>\n",
       "    <tr>\n",
       "      <th>124</th>\n",
       "      <td>1</td>\n",
       "      <td>0.661538</td>\n",
       "      <td>0.635443</td>\n",
       "      <td>0.166667</td>\n",
       "      <td>0.038364</td>\n",
       "    </tr>\n",
       "    <tr>\n",
       "      <th>4173</th>\n",
       "      <td>1</td>\n",
       "      <td>0.630769</td>\n",
       "      <td>0.588608</td>\n",
       "      <td>0.166667</td>\n",
       "      <td>0.039241</td>\n",
       "    </tr>\n",
       "    <tr>\n",
       "      <th>3192</th>\n",
       "      <td>1</td>\n",
       "      <td>0.646154</td>\n",
       "      <td>0.651899</td>\n",
       "      <td>0.166667</td>\n",
       "      <td>0.039435</td>\n",
       "    </tr>\n",
       "    <tr>\n",
       "      <th>1550</th>\n",
       "      <td>1</td>\n",
       "      <td>0.615385</td>\n",
       "      <td>0.602532</td>\n",
       "      <td>0.166667</td>\n",
       "      <td>0.040701</td>\n",
       "    </tr>\n",
       "    <tr>\n",
       "      <th>3541</th>\n",
       "      <td>1</td>\n",
       "      <td>0.615385</td>\n",
       "      <td>0.600000</td>\n",
       "      <td>0.166667</td>\n",
       "      <td>0.043233</td>\n",
       "    </tr>\n",
       "    <tr>\n",
       "      <th>3099</th>\n",
       "      <td>1</td>\n",
       "      <td>0.600000</td>\n",
       "      <td>0.611392</td>\n",
       "      <td>0.166667</td>\n",
       "      <td>0.047225</td>\n",
       "    </tr>\n",
       "  </tbody>\n",
       "</table>\n",
       "</div>"
      ],
      "text/plain": [
       "      gender       age    income  family_members  distance\n",
       "0          1  0.630769  0.627848        0.166667  0.000000\n",
       "2632       1  0.630769  0.634177        0.166667  0.006329\n",
       "133        1  0.615385  0.636709        0.166667  0.024245\n",
       "4720       1  0.646154  0.637975        0.166667  0.025511\n",
       "2072       1  0.630769  0.596203        0.166667  0.031646\n",
       "124        1  0.661538  0.635443        0.166667  0.038364\n",
       "4173       1  0.630769  0.588608        0.166667  0.039241\n",
       "3192       1  0.646154  0.651899        0.166667  0.039435\n",
       "1550       1  0.615385  0.602532        0.166667  0.040701\n",
       "3541       1  0.615385  0.600000        0.166667  0.043233\n",
       "3099       1  0.600000  0.611392        0.166667  0.047225"
      ]
     },
     "metadata": {},
     "output_type": "display_data"
    }
   ],
   "source": [
    "scaled_manhattan = get_knn(main_df_scaled[features_names], 0, 11, 'manhattan')\n",
    "display(scaled_manhattan)"
   ]
  },
  {
   "cell_type": "markdown",
   "metadata": {},
   "source": [
    "**Does the data being not scaled affect the kNN algorithm? If so, how does that appear?** \n",
    "\n",
    "Oh, absolutely it does! The distances are much smaller when the data is scaled, regardless of the distance metric.\n",
    "\n",
    "When the data is not scaled, the 10 shortest distances using the euclidean metric range from 1 to 8.062258, and using the manhattan metric the 10 shortest distances range from 1 to 9.\n",
    "\n",
    "In contrast, when the data is scaled all 10 shortest distances are less than 1 (in fact, all 10 shortest distances are much closer to 0 than to 1). The euclidean metric distances range from 0.006329 to 0.036156 and the manhattan metric distances range from 0.006329 to 0.047225.\n",
    "\n",
    "I think the **income** column is the main reason why the data being not scaled affects the kNN algorithm. In the original (i.e. not scaled) dataframe, the income values have a much larger magnitude than the other features, and thus the income column influences the distances much more than the other features."
   ]
  },
  {
   "cell_type": "markdown",
   "metadata": {},
   "source": [
    "**How similar are the results using the Manhattan distance metric (regardless of the scaling)?** "
   ]
  },
  {
   "cell_type": "markdown",
   "metadata": {},
   "source": [
    "Let's store the distance values and their corresponding indexes into new dataframes to make comparing the results easy."
   ]
  },
  {
   "cell_type": "code",
   "execution_count": 26,
   "metadata": {},
   "outputs": [
    {
     "data": {
      "text/html": [
       "<div>\n",
       "<style scoped>\n",
       "    .dataframe tbody tr th:only-of-type {\n",
       "        vertical-align: middle;\n",
       "    }\n",
       "\n",
       "    .dataframe tbody tr th {\n",
       "        vertical-align: top;\n",
       "    }\n",
       "\n",
       "    .dataframe thead th {\n",
       "        text-align: right;\n",
       "    }\n",
       "</style>\n",
       "<table border=\"1\" class=\"dataframe\">\n",
       "  <thead>\n",
       "    <tr style=\"text-align: right;\">\n",
       "      <th></th>\n",
       "      <th>index_not_scaled_euc</th>\n",
       "      <th>index_not_scaled_man</th>\n",
       "      <th>same_index</th>\n",
       "      <th>distance_not_scaled_euc</th>\n",
       "      <th>distance_not_scaled_man</th>\n",
       "      <th>distance_difference</th>\n",
       "    </tr>\n",
       "  </thead>\n",
       "  <tbody>\n",
       "    <tr>\n",
       "      <th>1</th>\n",
       "      <td>1992</td>\n",
       "      <td>1992</td>\n",
       "      <td>Yes</td>\n",
       "      <td>1.000000</td>\n",
       "      <td>1.0</td>\n",
       "      <td>0.000000</td>\n",
       "    </tr>\n",
       "    <tr>\n",
       "      <th>2</th>\n",
       "      <td>1214</td>\n",
       "      <td>1214</td>\n",
       "      <td>Yes</td>\n",
       "      <td>1.732051</td>\n",
       "      <td>3.0</td>\n",
       "      <td>1.267949</td>\n",
       "    </tr>\n",
       "    <tr>\n",
       "      <th>3</th>\n",
       "      <td>3916</td>\n",
       "      <td>3916</td>\n",
       "      <td>Yes</td>\n",
       "      <td>3.162278</td>\n",
       "      <td>4.0</td>\n",
       "      <td>0.837722</td>\n",
       "    </tr>\n",
       "    <tr>\n",
       "      <th>4</th>\n",
       "      <td>3334</td>\n",
       "      <td>3334</td>\n",
       "      <td>Yes</td>\n",
       "      <td>3.316625</td>\n",
       "      <td>5.0</td>\n",
       "      <td>1.683375</td>\n",
       "    </tr>\n",
       "    <tr>\n",
       "      <th>5</th>\n",
       "      <td>810</td>\n",
       "      <td>810</td>\n",
       "      <td>Yes</td>\n",
       "      <td>4.123106</td>\n",
       "      <td>5.0</td>\n",
       "      <td>0.876894</td>\n",
       "    </tr>\n",
       "    <tr>\n",
       "      <th>6</th>\n",
       "      <td>4520</td>\n",
       "      <td>4520</td>\n",
       "      <td>Yes</td>\n",
       "      <td>4.242641</td>\n",
       "      <td>6.0</td>\n",
       "      <td>1.757359</td>\n",
       "    </tr>\n",
       "    <tr>\n",
       "      <th>7</th>\n",
       "      <td>2094</td>\n",
       "      <td>2094</td>\n",
       "      <td>Yes</td>\n",
       "      <td>4.242641</td>\n",
       "      <td>6.0</td>\n",
       "      <td>1.757359</td>\n",
       "    </tr>\n",
       "    <tr>\n",
       "      <th>8</th>\n",
       "      <td>2311</td>\n",
       "      <td>2311</td>\n",
       "      <td>Yes</td>\n",
       "      <td>5.099020</td>\n",
       "      <td>6.0</td>\n",
       "      <td>0.900980</td>\n",
       "    </tr>\n",
       "    <tr>\n",
       "      <th>9</th>\n",
       "      <td>3790</td>\n",
       "      <td>3790</td>\n",
       "      <td>Yes</td>\n",
       "      <td>5.099020</td>\n",
       "      <td>6.0</td>\n",
       "      <td>0.900980</td>\n",
       "    </tr>\n",
       "    <tr>\n",
       "      <th>10</th>\n",
       "      <td>3590</td>\n",
       "      <td>3590</td>\n",
       "      <td>Yes</td>\n",
       "      <td>8.062258</td>\n",
       "      <td>9.0</td>\n",
       "      <td>0.937742</td>\n",
       "    </tr>\n",
       "  </tbody>\n",
       "</table>\n",
       "</div>"
      ],
      "text/plain": [
       "    index_not_scaled_euc  index_not_scaled_man same_index  \\\n",
       "1                   1992                  1992        Yes   \n",
       "2                   1214                  1214        Yes   \n",
       "3                   3916                  3916        Yes   \n",
       "4                   3334                  3334        Yes   \n",
       "5                    810                   810        Yes   \n",
       "6                   4520                  4520        Yes   \n",
       "7                   2094                  2094        Yes   \n",
       "8                   2311                  2311        Yes   \n",
       "9                   3790                  3790        Yes   \n",
       "10                  3590                  3590        Yes   \n",
       "\n",
       "    distance_not_scaled_euc  distance_not_scaled_man  distance_difference  \n",
       "1                  1.000000                      1.0             0.000000  \n",
       "2                  1.732051                      3.0             1.267949  \n",
       "3                  3.162278                      4.0             0.837722  \n",
       "4                  3.316625                      5.0             1.683375  \n",
       "5                  4.123106                      5.0             0.876894  \n",
       "6                  4.242641                      6.0             1.757359  \n",
       "7                  4.242641                      6.0             1.757359  \n",
       "8                  5.099020                      6.0             0.900980  \n",
       "9                  5.099020                      6.0             0.900980  \n",
       "10                 8.062258                      9.0             0.937742  "
      ]
     },
     "metadata": {},
     "output_type": "display_data"
    }
   ],
   "source": [
    "index_and_distance_not_scaled_df = pd.DataFrame()\n",
    "\n",
    "index_and_distance_not_scaled_df['index_not_scaled_euc'] = not_scaled_euclidean.index\n",
    "index_and_distance_not_scaled_df['index_not_scaled_man'] = not_scaled_manhattan.index\n",
    "index_and_distance_not_scaled_df['same_index'] = (index_and_distance_not_scaled_df['index_not_scaled_euc'] == index_and_distance_not_scaled_df['index_not_scaled_man']).map({True: 'Yes', False: 'No'})\n",
    "\n",
    "index_and_distance_not_scaled_df['distance_not_scaled_euc'] = not_scaled_euclidean['distance'].values\n",
    "index_and_distance_not_scaled_df['distance_not_scaled_man'] = not_scaled_manhattan['distance'].values\n",
    "index_and_distance_not_scaled_df['distance_difference'] = index_and_distance_not_scaled_df['distance_not_scaled_man'] - index_and_distance_not_scaled_df['distance_not_scaled_euc']\n",
    "\n",
    "index_and_distance_not_scaled_df.drop(index_and_distance_not_scaled_df.index[0], inplace = True)\n",
    "\n",
    "display(index_and_distance_not_scaled_df)"
   ]
  },
  {
   "cell_type": "markdown",
   "metadata": {},
   "source": [
    "For the most part, when the data is not scaled the euclidean and manhattan metrics yield very similar results. In fact, 7 out of the 10 shortest distances for both metrics have the same index, meaning 7 out of the 10 customers nearest to the first customer are not only the same people for both metrics, but also those 7 people are located in the same slot.\n",
    "\n",
    "As for the 3 customers not in the exact same slot (index values 2094, 3790, and 2311), they are all nevertheless present in a nearby slot. For example, the customer with index 3790 is the 8th nearest customer when using the euclidean metric, and is the 9th nearest customer when using the manhattan metric.\n",
    "\n",
    "Lastly, the distances are all quite similar. Manhattan distance is always greater than or equal to euclidean distance, never less than, so it makes sense that most of the manhattan distances are slightly larger. Thankfully, all of the manhattan distances are less than 2 units larger than the euclidean distances."
   ]
  },
  {
   "cell_type": "code",
   "execution_count": 27,
   "metadata": {},
   "outputs": [
    {
     "data": {
      "text/html": [
       "<div>\n",
       "<style scoped>\n",
       "    .dataframe tbody tr th:only-of-type {\n",
       "        vertical-align: middle;\n",
       "    }\n",
       "\n",
       "    .dataframe tbody tr th {\n",
       "        vertical-align: top;\n",
       "    }\n",
       "\n",
       "    .dataframe thead th {\n",
       "        text-align: right;\n",
       "    }\n",
       "</style>\n",
       "<table border=\"1\" class=\"dataframe\">\n",
       "  <thead>\n",
       "    <tr style=\"text-align: right;\">\n",
       "      <th></th>\n",
       "      <th>index_scaled_euc</th>\n",
       "      <th>index_scaled_man</th>\n",
       "      <th>same_index</th>\n",
       "      <th>distance_scaled_euc</th>\n",
       "      <th>distance_scaled_man</th>\n",
       "      <th>distance_difference</th>\n",
       "    </tr>\n",
       "  </thead>\n",
       "  <tbody>\n",
       "    <tr>\n",
       "      <th>1</th>\n",
       "      <td>2632</td>\n",
       "      <td>2632</td>\n",
       "      <td>Yes</td>\n",
       "      <td>0.006329</td>\n",
       "      <td>0.006329</td>\n",
       "      <td>0.000000</td>\n",
       "    </tr>\n",
       "    <tr>\n",
       "      <th>2</th>\n",
       "      <td>133</td>\n",
       "      <td>133</td>\n",
       "      <td>Yes</td>\n",
       "      <td>0.017754</td>\n",
       "      <td>0.024245</td>\n",
       "      <td>0.006492</td>\n",
       "    </tr>\n",
       "    <tr>\n",
       "      <th>3</th>\n",
       "      <td>4720</td>\n",
       "      <td>4720</td>\n",
       "      <td>Yes</td>\n",
       "      <td>0.018418</td>\n",
       "      <td>0.025511</td>\n",
       "      <td>0.007093</td>\n",
       "    </tr>\n",
       "    <tr>\n",
       "      <th>4</th>\n",
       "      <td>3192</td>\n",
       "      <td>2072</td>\n",
       "      <td>No</td>\n",
       "      <td>0.028550</td>\n",
       "      <td>0.031646</td>\n",
       "      <td>0.003095</td>\n",
       "    </tr>\n",
       "    <tr>\n",
       "      <th>5</th>\n",
       "      <td>1550</td>\n",
       "      <td>124</td>\n",
       "      <td>No</td>\n",
       "      <td>0.029624</td>\n",
       "      <td>0.038364</td>\n",
       "      <td>0.008740</td>\n",
       "    </tr>\n",
       "    <tr>\n",
       "      <th>6</th>\n",
       "      <td>2072</td>\n",
       "      <td>4173</td>\n",
       "      <td>No</td>\n",
       "      <td>0.031646</td>\n",
       "      <td>0.039241</td>\n",
       "      <td>0.007595</td>\n",
       "    </tr>\n",
       "    <tr>\n",
       "      <th>7</th>\n",
       "      <td>124</td>\n",
       "      <td>3192</td>\n",
       "      <td>No</td>\n",
       "      <td>0.031693</td>\n",
       "      <td>0.039435</td>\n",
       "      <td>0.007743</td>\n",
       "    </tr>\n",
       "    <tr>\n",
       "      <th>8</th>\n",
       "      <td>3541</td>\n",
       "      <td>1550</td>\n",
       "      <td>No</td>\n",
       "      <td>0.031815</td>\n",
       "      <td>0.040701</td>\n",
       "      <td>0.008886</td>\n",
       "    </tr>\n",
       "    <tr>\n",
       "      <th>9</th>\n",
       "      <td>3099</td>\n",
       "      <td>3541</td>\n",
       "      <td>No</td>\n",
       "      <td>0.034893</td>\n",
       "      <td>0.043233</td>\n",
       "      <td>0.008340</td>\n",
       "    </tr>\n",
       "    <tr>\n",
       "      <th>10</th>\n",
       "      <td>69</td>\n",
       "      <td>3099</td>\n",
       "      <td>No</td>\n",
       "      <td>0.036156</td>\n",
       "      <td>0.047225</td>\n",
       "      <td>0.011069</td>\n",
       "    </tr>\n",
       "  </tbody>\n",
       "</table>\n",
       "</div>"
      ],
      "text/plain": [
       "    index_scaled_euc  index_scaled_man same_index  distance_scaled_euc  \\\n",
       "1               2632              2632        Yes             0.006329   \n",
       "2                133               133        Yes             0.017754   \n",
       "3               4720              4720        Yes             0.018418   \n",
       "4               3192              2072         No             0.028550   \n",
       "5               1550               124         No             0.029624   \n",
       "6               2072              4173         No             0.031646   \n",
       "7                124              3192         No             0.031693   \n",
       "8               3541              1550         No             0.031815   \n",
       "9               3099              3541         No             0.034893   \n",
       "10                69              3099         No             0.036156   \n",
       "\n",
       "    distance_scaled_man  distance_difference  \n",
       "1              0.006329             0.000000  \n",
       "2              0.024245             0.006492  \n",
       "3              0.025511             0.007093  \n",
       "4              0.031646             0.003095  \n",
       "5              0.038364             0.008740  \n",
       "6              0.039241             0.007595  \n",
       "7              0.039435             0.007743  \n",
       "8              0.040701             0.008886  \n",
       "9              0.043233             0.008340  \n",
       "10             0.047225             0.011069  "
      ]
     },
     "metadata": {},
     "output_type": "display_data"
    }
   ],
   "source": [
    "index_and_distance_scaled_df = pd.DataFrame()\n",
    "\n",
    "index_and_distance_scaled_df['index_scaled_euc'] = scaled_euclidean.index\n",
    "index_and_distance_scaled_df['index_scaled_man'] = scaled_manhattan.index\n",
    "index_and_distance_scaled_df['same_index'] = (index_and_distance_scaled_df['index_scaled_euc'] == index_and_distance_scaled_df['index_scaled_man']).map({True: 'Yes', False: 'No'})\n",
    "\n",
    "index_and_distance_scaled_df['distance_scaled_euc'] = scaled_euclidean['distance'].values\n",
    "index_and_distance_scaled_df['distance_scaled_man'] = scaled_manhattan['distance'].values\n",
    "index_and_distance_scaled_df['distance_difference'] = index_and_distance_scaled_df['distance_scaled_man'] - index_and_distance_scaled_df['distance_scaled_euc']\n",
    "\n",
    "\n",
    "index_and_distance_scaled_df.drop(index_and_distance_scaled_df.index[0], inplace = True)\n",
    "\n",
    "display(index_and_distance_scaled_df)"
   ]
  },
  {
   "cell_type": "markdown",
   "metadata": {},
   "source": [
    "Unfortunately, the indexes are not as similar when using the scaled data. The top 3 shortest distance customers (index values 2632, 133, and 4720) are the same for both metrics, but only those 3. \n",
    "\n",
    "On the bright side, both metrics identified 6 additional customers as being somewhere in the top 10: those with index values, in order from least to greatest, 124, 1550, 2072, 3099, 3192, 3541. \n",
    "\n",
    "Interestingly, the customer with index 69 got 10th place when using euclidean distance, but does not appear anywhere in the top 10 using manhattan distance. Furthermore, the customer with index 4173 only appears in the top 10 using manhattan distance,  in 6th place. \n",
    "\n",
    "Lastly, I should mention that the distance values are extremely similar. The <b><i>largest</b></i> difference in distance is 0.011069, which is still very close to 0. "
   ]
  },
  {
   "cell_type": "markdown",
   "metadata": {},
   "source": [
    "# Task 2: Is The Customer Likely to Receive Insurance Benefits? <a id = 4></a>"
   ]
  },
  {
   "cell_type": "markdown",
   "metadata": {},
   "source": [
    "The above question can be treated as a binary classification task, since either a customer receives insurance benefits or does not.\n",
    "\n",
    "With `insurance_benefits` being more than zero as the target, I wonder if kNN classification can do better than a dummy model.\n",
    "\n",
    "I will now follow these instructions:\n",
    "- Build a KNN-based classifier and measure its quality with the F1 metric for parameter **n_neighbors** = 1 through 10 for both the original data and the scaled one. (It would be interesting to see how k influences the evaluation metric, and whether scaling the data makes any difference.)\n",
    "- Build a dummy model which is just random for this case. It should return \"1\" with some probability. Let's test the dummy model with four probability values: 0, the value of the probability of receiving any insurance benefit, 0.5, and 1.\n",
    "\n",
    "The probability of receiving any insurance benefit can be defined as\n",
    "\n",
    "$$\n",
    "P\\{\\text{insurance benefit received}\\}=\\frac{\\text{number of customers who received any insurance benefit}}{\\text{total number of customers}}.\n",
    "$$\n",
    "\n",
    "I will split the whole data using a 70:30 ratio for the training and test sets."
   ]
  },
  {
   "cell_type": "markdown",
   "metadata": {},
   "source": [
    "The next line adds a new column to the **main_df**, which indicates whether or not a customer received at least 1 benefit."
   ]
  },
  {
   "cell_type": "code",
   "execution_count": 28,
   "metadata": {},
   "outputs": [],
   "source": [
    "main_df['insurance_benefits_received'] = main_df['insurance_benefits'].apply(lambda x: \n",
    "                                                                             'No' if x == 0 \n",
    "                                                                             else 'Yes')"
   ]
  },
  {
   "cell_type": "markdown",
   "metadata": {},
   "source": [
    "I worry that there is a serious class imbalance with the **insurance_benefits_received** values. Let's see if there is... "
   ]
  },
  {
   "cell_type": "code",
   "execution_count": 29,
   "metadata": {},
   "outputs": [
    {
     "data": {
      "text/plain": [
       "insurance_benefits_received\n",
       "No     4284\n",
       "Yes     563\n",
       "Name: count, dtype: int64"
      ]
     },
     "execution_count": 29,
     "metadata": {},
     "output_type": "execute_result"
    }
   ],
   "source": [
    "main_df['insurance_benefits_received'].value_counts()"
   ]
  },
  {
   "cell_type": "markdown",
   "metadata": {},
   "source": [
    "Indeed, there is a class imbalance because there are <b><i>far more</b></i> customers who receive no benefits than there are customers who receive at least one benefit. Thankfully, this can be remedied using the **stratify** parameter of **train_test_split**. Let's split the original data into training and test sets using a 70:30 ratio."
   ]
  },
  {
   "cell_type": "code",
   "execution_count": 30,
   "metadata": {},
   "outputs": [],
   "source": [
    "not_scaled_train, not_scaled_test = train_test_split(main_df, test_size = 0.3, \n",
    "                                                     stratify = main_df['insurance_benefits_received'], \n",
    "                                                     random_state = 12345)\n",
    "\n",
    "not_scaled_train_features = not_scaled_train[features_names].copy()\n",
    "not_scaled_train_targets = not_scaled_train['insurance_benefits_received'].copy()\n",
    "\n",
    "not_scaled_test_features = not_scaled_test[features_names].copy()\n",
    "not_scaled_test_targets = not_scaled_test['insurance_benefits_received'].copy()"
   ]
  },
  {
   "cell_type": "markdown",
   "metadata": {},
   "source": [
    "Now let's test a KNN classifier by finding the F1 score and the confusion matrix when the **n_neighbors** parameter is set equal to every integer between 1 and 10, inclusive."
   ]
  },
  {
   "cell_type": "code",
   "execution_count": 31,
   "metadata": {},
   "outputs": [],
   "source": [
    "def eval_classifier(y_true, y_pred):\n",
    "    \n",
    "    f1_score = sklearn.metrics.f1_score(y_true, y_pred, pos_label = 'Yes')\n",
    "    print(f'F1: {f1_score:.2f}')\n",
    "    \n",
    "    confusion_matrix = sklearn.metrics.confusion_matrix(y_true, y_pred)\n",
    "    print('Confusion Matrix')\n",
    "    print(confusion_matrix)"
   ]
  },
  {
   "cell_type": "code",
   "execution_count": 32,
   "metadata": {},
   "outputs": [
    {
     "name": "stdout",
     "output_type": "stream",
     "text": [
      "F1 score and confusion matrix for n_neighbors = 1\n",
      "F1: 0.66\n",
      "Confusion Matrix\n",
      "[[1255   31]\n",
      " [  70   99]]\n",
      "\n",
      "F1 score and confusion matrix for n_neighbors = 2\n",
      "F1: 0.35\n",
      "Confusion Matrix\n",
      "[[1281    5]\n",
      " [ 132   37]]\n",
      "\n",
      "F1 score and confusion matrix for n_neighbors = 3\n",
      "F1: 0.40\n",
      "Confusion Matrix\n",
      "[[1268   18]\n",
      " [ 122   47]]\n",
      "\n",
      "F1 score and confusion matrix for n_neighbors = 4\n",
      "F1: 0.19\n",
      "Confusion Matrix\n",
      "[[1282    4]\n",
      " [ 151   18]]\n",
      "\n",
      "F1 score and confusion matrix for n_neighbors = 5\n",
      "F1: 0.20\n",
      "Confusion Matrix\n",
      "[[1276   10]\n",
      " [ 149   20]]\n",
      "\n",
      "F1 score and confusion matrix for n_neighbors = 6\n",
      "F1: 0.12\n",
      "Confusion Matrix\n",
      "[[1284    2]\n",
      " [ 158   11]]\n",
      "\n",
      "F1 score and confusion matrix for n_neighbors = 7\n",
      "F1: 0.13\n",
      "Confusion Matrix\n",
      "[[1282    4]\n",
      " [ 157   12]]\n",
      "\n",
      "F1 score and confusion matrix for n_neighbors = 8\n",
      "F1: 0.06\n",
      "Confusion Matrix\n",
      "[[1286    0]\n",
      " [ 164    5]]\n",
      "\n",
      "F1 score and confusion matrix for n_neighbors = 9\n",
      "F1: 0.06\n",
      "Confusion Matrix\n",
      "[[1285    1]\n",
      " [ 164    5]]\n",
      "\n",
      "F1 score and confusion matrix for n_neighbors = 10\n",
      "F1: 0.00\n",
      "Confusion Matrix\n",
      "[[1286    0]\n",
      " [ 169    0]]\n",
      "\n"
     ]
    }
   ],
   "source": [
    "for integer in range(1, 11):\n",
    "    print('F1 score and confusion matrix for n_neighbors =', integer)\n",
    "    knn_not_scaled = sklearn.neighbors.KNeighborsClassifier(n_neighbors = integer)\n",
    "    knn_not_scaled.fit(not_scaled_train_features, not_scaled_train_targets)\n",
    "    eval_classifier(not_scaled_test_targets, knn_not_scaled.predict(not_scaled_test_features))\n",
    "    print()"
   ]
  },
  {
   "cell_type": "markdown",
   "metadata": {},
   "source": [
    "For the most part, the F1 score decreases as the value of **n_neighbors** increases. The best F1 score, by far, is 0.65 which occurs when **n_neighbors** = 1. \n",
    "\n",
    "In fact, this is the only F1 score that is greater than 0.5, which suggests that the balance between precision and recall is pretty good (but not great)."
   ]
  },
  {
   "cell_type": "markdown",
   "metadata": {},
   "source": [
    "Now let's do the same with the scaled data!"
   ]
  },
  {
   "cell_type": "code",
   "execution_count": 33,
   "metadata": {},
   "outputs": [
    {
     "name": "stderr",
     "output_type": "stream",
     "text": [
      "C:\\Users\\18604\\AppData\\Local\\Temp\\ipykernel_33668\\3154835995.py:6: FutureWarning: Setting an item of incompatible dtype is deprecated and will raise in a future error of pandas. Value '[0.35384615 0.4        0.56923077 ... 0.4        0.29230769 0.56923077]' has dtype incompatible with int32, please explicitly cast to a compatible dtype first.\n",
      "  scaled_train_features.loc[:, features_names] = transformer_mas.fit_transform(scaled_train_features)\n",
      "C:\\Users\\18604\\AppData\\Local\\Temp\\ipykernel_33668\\3154835995.py:6: FutureWarning: Setting an item of incompatible dtype is deprecated and will raise in a future error of pandas. Value '[0.5837766  0.63696809 0.56515957 ... 0.59441489 0.49867021 0.65957447]' has dtype incompatible with int32, please explicitly cast to a compatible dtype first.\n",
      "  scaled_train_features.loc[:, features_names] = transformer_mas.fit_transform(scaled_train_features)\n",
      "C:\\Users\\18604\\AppData\\Local\\Temp\\ipykernel_33668\\3154835995.py:6: FutureWarning: Setting an item of incompatible dtype is deprecated and will raise in a future error of pandas. Value '[0.         0.         0.16666667 ... 0.33333333 0.         0.33333333]' has dtype incompatible with int64, please explicitly cast to a compatible dtype first.\n",
      "  scaled_train_features.loc[:, features_names] = transformer_mas.fit_transform(scaled_train_features)\n",
      "C:\\Users\\18604\\AppData\\Local\\Packages\\PythonSoftwareFoundation.Python.3.11_qbz5n2kfra8p0\\LocalCache\\local-packages\\Python311\\site-packages\\sklearn\\base.py:493: UserWarning: X does not have valid feature names, but MaxAbsScaler was fitted with feature names\n",
      "  warnings.warn(\n",
      "C:\\Users\\18604\\AppData\\Local\\Temp\\ipykernel_33668\\3154835995.py:11: FutureWarning: Setting an item of incompatible dtype is deprecated and will raise in a future error of pandas. Value '[0.27692308 0.38461538 0.29230769 ... 0.53846154 0.6        0.43076923]' has dtype incompatible with int32, please explicitly cast to a compatible dtype first.\n",
      "  scaled_test_features.loc[:, features_names] = transformer_mas.transform(scaled_test_features.to_numpy())\n",
      "C:\\Users\\18604\\AppData\\Local\\Temp\\ipykernel_33668\\3154835995.py:11: FutureWarning: Setting an item of incompatible dtype is deprecated and will raise in a future error of pandas. Value '[0.65691489 0.57579787 0.47074468 ... 0.5731383  0.47606383 0.60505319]' has dtype incompatible with int32, please explicitly cast to a compatible dtype first.\n",
      "  scaled_test_features.loc[:, features_names] = transformer_mas.transform(scaled_test_features.to_numpy())\n",
      "C:\\Users\\18604\\AppData\\Local\\Temp\\ipykernel_33668\\3154835995.py:11: FutureWarning: Setting an item of incompatible dtype is deprecated and will raise in a future error of pandas. Value '[0.16666667 0.         0.33333333 ... 0.33333333 0.16666667 0.        ]' has dtype incompatible with int64, please explicitly cast to a compatible dtype first.\n",
      "  scaled_test_features.loc[:, features_names] = transformer_mas.transform(scaled_test_features.to_numpy())\n"
     ]
    }
   ],
   "source": [
    "scaled_train, scaled_test = train_test_split(main_df, test_size = 0.3, \n",
    "                                             stratify = main_df['insurance_benefits_received'], \n",
    "                                             random_state = 12345)\n",
    "\n",
    "scaled_train_features = scaled_train[features_names].copy()\n",
    "scaled_train_features.loc[:, features_names] = transformer_mas.fit_transform(scaled_train_features)\n",
    "\n",
    "scaled_train_targets = scaled_train['insurance_benefits_received'].copy()\n",
    "\n",
    "scaled_test_features = scaled_test[features_names].copy()\n",
    "scaled_test_features.loc[:, features_names] = transformer_mas.transform(scaled_test_features.to_numpy())\n",
    "\n",
    "scaled_test_targets = scaled_test['insurance_benefits_received'].copy()"
   ]
  },
  {
   "cell_type": "code",
   "execution_count": 34,
   "metadata": {},
   "outputs": [
    {
     "name": "stdout",
     "output_type": "stream",
     "text": [
      "F1 score and confusion matrix for n_neighbors = 1\n",
      "F1: 0.95\n",
      "Confusion Matrix\n",
      "[[1280    6]\n",
      " [  11  158]]\n",
      "\n",
      "F1 score and confusion matrix for n_neighbors = 2\n",
      "F1: 0.92\n",
      "Confusion Matrix\n",
      "[[1285    1]\n",
      " [  25  144]]\n",
      "\n",
      "F1 score and confusion matrix for n_neighbors = 3\n",
      "F1: 0.94\n",
      "Confusion Matrix\n",
      "[[1279    7]\n",
      " [  14  155]]\n",
      "\n",
      "F1 score and confusion matrix for n_neighbors = 4\n",
      "F1: 0.90\n",
      "Confusion Matrix\n",
      "[[1283    3]\n",
      " [  29  140]]\n",
      "\n",
      "F1 score and confusion matrix for n_neighbors = 5\n",
      "F1: 0.93\n",
      "Confusion Matrix\n",
      "[[1280    6]\n",
      " [  17  152]]\n",
      "\n",
      "F1 score and confusion matrix for n_neighbors = 6\n",
      "F1: 0.92\n",
      "Confusion Matrix\n",
      "[[1285    1]\n",
      " [  23  146]]\n",
      "\n",
      "F1 score and confusion matrix for n_neighbors = 7\n",
      "F1: 0.94\n",
      "Confusion Matrix\n",
      "[[1283    3]\n",
      " [  17  152]]\n",
      "\n",
      "F1 score and confusion matrix for n_neighbors = 8\n",
      "F1: 0.92\n",
      "Confusion Matrix\n",
      "[[1284    2]\n",
      " [  22  147]]\n",
      "\n",
      "F1 score and confusion matrix for n_neighbors = 9\n",
      "F1: 0.94\n",
      "Confusion Matrix\n",
      "[[1283    3]\n",
      " [  17  152]]\n",
      "\n",
      "F1 score and confusion matrix for n_neighbors = 10\n",
      "F1: 0.91\n",
      "Confusion Matrix\n",
      "[[1286    0]\n",
      " [  28  141]]\n",
      "\n"
     ]
    }
   ],
   "source": [
    "for integer in range(1, 11):\n",
    "    print('F1 score and confusion matrix for n_neighbors =', integer)\n",
    "    knn_scaled = sklearn.neighbors.KNeighborsClassifier(n_neighbors = integer)\n",
    "    knn_scaled.fit(scaled_train_features, scaled_train_targets)\n",
    "    eval_classifier(scaled_test_targets, knn_scaled.predict(scaled_test_features))\n",
    "    print()"
   ]
  },
  {
   "cell_type": "markdown",
   "metadata": {},
   "source": [
    "Great! These are fantastic results! Just like how the scaled data got much better results in Task 1, in the form of much shortest distances, the scaled data also has much better results in this task. I think it is fantastic to see that all 10 confusion matrices of the scaled data correspond to an F1 score that is at least 0.9. Since all of the F1 scores are so close to 1, that implies an excellent balance between precision and recall. The practical takeaway from this is that <u>Sure Tomorrow</u> can use the scaled data to identify at least 10 (possibly more) neighbors for any given customer with a high degree of accuracy."
   ]
  },
  {
   "cell_type": "markdown",
   "metadata": {},
   "source": [
    "Now it's time for the dummy model. The very next line generates the outputs of a random (dummy) model."
   ]
  },
  {
   "cell_type": "code",
   "execution_count": 35,
   "metadata": {},
   "outputs": [],
   "source": [
    "def rnd_model_predict(P, size, seed = 42):\n",
    "\n",
    "    rng = np.random.default_rng(seed = seed)\n",
    "    return rng.binomial(n = 1, p = P, size = size)"
   ]
  },
  {
   "cell_type": "code",
   "execution_count": 36,
   "metadata": {},
   "outputs": [
    {
     "name": "stdout",
     "output_type": "stream",
     "text": [
      "The probability: 0.00\n",
      "F1: 0.00\n",
      "Confusion Matrix\n",
      "[[4284    0]\n",
      " [ 563    0]]\n",
      "\n",
      "The probability: 0.12\n",
      "F1: 0.13\n",
      "Confusion Matrix\n",
      "[[3805  479]\n",
      " [ 493   70]]\n",
      "\n",
      "The probability: 0.50\n",
      "F1: 0.19\n",
      "Confusion Matrix\n",
      "[[2175 2109]\n",
      " [ 287  276]]\n",
      "\n",
      "The probability: 1.00\n",
      "F1: 0.21\n",
      "Confusion Matrix\n",
      "[[   0 4284]\n",
      " [   0  563]]\n",
      "\n"
     ]
    }
   ],
   "source": [
    "for p_value in [0, main_df['insurance_benefits_received'].value_counts()['Yes'] / len(main_df), 0.5, 1]:\n",
    "\n",
    "    print(f'The probability: {p_value:.2f}')\n",
    "    y_pred_rnd = rnd_model_predict(p_value, main_df['insurance_benefits_received'].shape[0])\n",
    "    y_pred_rnd = ['Yes' if pred == 1 else 'No' for pred in y_pred_rnd]\n",
    "    \n",
    "    eval_classifier(main_df['insurance_benefits_received'], y_pred_rnd)\n",
    "    \n",
    "    print()"
   ]
  },
  {
   "cell_type": "markdown",
   "metadata": {},
   "source": [
    "The very best dummy model has an F1 score of 0.21, which is worse than even the original data has **n_neighbors** set equal to 1, 2, or 3.\n",
    "\n",
    "Perhaps it goes without saying, but the dummy model is nowhere near as good as the KNN classifier when using the scaled data. This is, of course, great news because there would be no point in using a model that isn't significantly better than a dummy."
   ]
  },
  {
   "cell_type": "markdown",
   "metadata": {},
   "source": [
    "# Task 3: Linear Regression <a id = 5></a>"
   ]
  },
  {
   "cell_type": "markdown",
   "metadata": {},
   "source": [
    "With `insurance_benefits` as the target, evaluate what RMSE would be for a Linear Regression model."
   ]
  },
  {
   "cell_type": "markdown",
   "metadata": {},
   "source": [
    "Build your own implementation of LR. For that, recall how the linear regression task's solution is formulated in terms of LA. Check RMSE for both the original data and the scaled one. Can you see any difference in RMSE between these two cases?\n",
    "\n",
    "Let's denote\n",
    "- $X$ — Feature matrix, each row is a case, each column is a feature, the first column consists of unities\n",
    "- $y$ — Target (a vector)\n",
    "- $\\hat{y}$ — Estimated tagret (a vector)\n",
    "- $w$ — Weight vector\n",
    "\n",
    "The task of linear regression in the language of matrices can be formulated as\n",
    "\n",
    "$$\n",
    "y = Xw\n",
    "$$\n",
    "\n",
    "The training objective then is to find such $w$ that it would minimize the L2-distance (MSE) between $Xw$ and $y$:\n",
    "\n",
    "$$\n",
    "\\min_w d_2(Xw, y) \\quad \\text{or} \\quad \\min_w \\text{MSE}(Xw, y)\n",
    "$$\n",
    "\n",
    "It appears that there is analytical solution for the above:\n",
    "\n",
    "$$\n",
    "w = (X^T X)^{-1} X^T y\n",
    "$$\n",
    "\n",
    "The formula above can be used to find the weights $w$ and the latter can be used to calculate predicted values\n",
    "\n",
    "$$\n",
    "\\hat{y} = X_{val}w\n",
    "$$"
   ]
  },
  {
   "cell_type": "markdown",
   "metadata": {},
   "source": [
    "Split the whole data into the ratio 70:30 for the training and test sets. Use the RMSE metric for the model evaluation."
   ]
  },
  {
   "cell_type": "code",
   "execution_count": 37,
   "metadata": {},
   "outputs": [],
   "source": [
    "class MyLinearRegression:\n",
    "    \n",
    "    def __init__(self):\n",
    "        \n",
    "        self.weights = None\n",
    "    \n",
    "    def fit(self, X_feature, y_target):\n",
    "        \n",
    "        X2_feature = np.append(np.ones([len(X_feature), 1]), X_feature, axis = 1)\n",
    "        self.weights = np.linalg.inv(X2_feature.T.dot(X2_feature)).dot(X2_feature.T).dot(y_target)\n",
    "\n",
    "    def predict(self, X_feature):\n",
    "        \n",
    "        X2_feature = np.append(np.ones([len(X_feature), 1]), X_feature, axis = 1)\n",
    "        y_pred = X2_feature.dot(self.weights)\n",
    "        \n",
    "        return y_pred"
   ]
  },
  {
   "cell_type": "code",
   "execution_count": 38,
   "metadata": {},
   "outputs": [],
   "source": [
    "def eval_regressor(y_true, y_pred):\n",
    "    \n",
    "    rmse = math.sqrt(sklearn.metrics.mean_squared_error(y_true, y_pred))\n",
    "    print(f'RMSE: {rmse:.2f}')\n",
    "    \n",
    "    r2_score = math.sqrt(sklearn.metrics.r2_score(y_true, y_pred))\n",
    "    print(f'R2: {r2_score:.2f}')    "
   ]
  },
  {
   "cell_type": "markdown",
   "metadata": {},
   "source": [
    "I am now ready to test the linear regression on the original data."
   ]
  },
  {
   "cell_type": "code",
   "execution_count": 39,
   "metadata": {},
   "outputs": [
    {
     "name": "stdout",
     "output_type": "stream",
     "text": [
      "[-9.77366679e-01  1.95594897e-02  3.58042290e-02  5.85335011e-07\n",
      " -1.21618426e-02]\n",
      "RMSE: 0.36\n",
      "R2: 0.66\n"
     ]
    }
   ],
   "source": [
    "X_feature_od = main_df[features_names].to_numpy()\n",
    "y_target_od = main_df['insurance_benefits'].to_numpy()\n",
    "\n",
    "X_feature_od_train, X_feature_od_test, y_target_od_train, y_target_od_test = train_test_split(X_feature_od, y_target_od, \n",
    "                                                                                              test_size = 0.3, \n",
    "                                                                                              random_state = 12345)\n",
    "\n",
    "not_scaled_lr = MyLinearRegression()\n",
    "not_scaled_lr.fit(X_feature_od_train, y_target_od_train)\n",
    "\n",
    "print(not_scaled_lr.weights)\n",
    "\n",
    "y_target_od_test_pred = not_scaled_lr.predict(X_feature_od_test)\n",
    "eval_regressor(y_target_od_test, y_target_od_test_pred)"
   ]
  },
  {
   "cell_type": "markdown",
   "metadata": {},
   "source": [
    "Now let's see what RMSE and R2 values the scaled data gives us."
   ]
  },
  {
   "cell_type": "code",
   "execution_count": 40,
   "metadata": {},
   "outputs": [
    {
     "name": "stdout",
     "output_type": "stream",
     "text": [
      "[-0.97736668  0.01955949  2.32727489  0.04378306 -0.07297106]\n",
      "RMSE: 0.36\n",
      "R2: 0.66\n"
     ]
    }
   ],
   "source": [
    "X_feature_sd_train, X_feature_sd_test, y_target_sd_train, y_target_sd_test = train_test_split(X_feature_od, y_target_od, \n",
    "                                                                                              test_size = 0.3, \n",
    "                                                                                              random_state = 12345)\n",
    "\n",
    "\n",
    "X_feature_sd_train = transformer_mas.fit_transform(X_feature_sd_train)\n",
    "X_feature_sd_test = transformer_mas.transform(X_feature_sd_test)\n",
    "\n",
    "scaled_lr = MyLinearRegression()\n",
    "scaled_lr.fit(X_feature_sd_train, y_target_sd_train)\n",
    "\n",
    "print(scaled_lr.weights)\n",
    "\n",
    "y_target_sd_test_pred = scaled_lr.predict(X_feature_sd_test)\n",
    "eval_regressor(y_target_sd_test, y_target_sd_test_pred)"
   ]
  },
  {
   "cell_type": "markdown",
   "metadata": {},
   "source": [
    "Really? Fascinating... I was expecting the scaled data to yield a smaller RMSE value and a larger R2 value than the original data, but (despite having different values in the resulting vectors) instead these values are exactly the same. Though the scaled data was the clear \"winner\" in Tasks 1 and 2, in this task I am not sure how to tell which of the two data sets is better to use."
   ]
  },
  {
   "cell_type": "markdown",
   "metadata": {},
   "source": [
    "# Task 4: Obfuscating Data <a id = 6></a>"
   ]
  },
  {
   "cell_type": "markdown",
   "metadata": {},
   "source": [
    "It best to obfuscate data by multiplying the numerical features (remember, they can be seen as the matrix $X$) by an invertible matrix $P$. \n",
    "\n",
    "$$\n",
    "X' = XP\n",
    "$$\n",
    "\n",
    "I will do that and then check how the features' values look after the transformation. It is imperative that I make sure $P$ is invertible."
   ]
  },
  {
   "cell_type": "code",
   "execution_count": 41,
   "metadata": {},
   "outputs": [],
   "source": [
    "main_df_pn = main_df[features_names].copy()"
   ]
  },
  {
   "cell_type": "code",
   "execution_count": 42,
   "metadata": {},
   "outputs": [],
   "source": [
    "X_matrix = main_df_pn.to_numpy()"
   ]
  },
  {
   "cell_type": "markdown",
   "metadata": {},
   "source": [
    "Have the values of the dataframe been correctly put into the matrix? Let's see if the first 10 rows match."
   ]
  },
  {
   "cell_type": "code",
   "execution_count": 43,
   "metadata": {},
   "outputs": [
    {
     "name": "stdout",
     "output_type": "stream",
     "text": [
      "   gender  age  income  family_members\n",
      "0       1   41   49600               1\n",
      "1       0   46   38000               1\n",
      "2       0   29   21000               0\n",
      "3       0   21   41700               2\n",
      "4       1   28   26100               0\n",
      "5       1   43   41000               2\n",
      "6       1   39   39700               2\n",
      "7       1   25   38600               4\n",
      "8       1   36   49700               1\n",
      "9       1   32   51700               1\n"
     ]
    }
   ],
   "source": [
    "print(main_df_pn.head(10))"
   ]
  },
  {
   "cell_type": "code",
   "execution_count": 44,
   "metadata": {},
   "outputs": [
    {
     "name": "stdout",
     "output_type": "stream",
     "text": [
      "[[    1    41 49600     1]\n",
      " [    0    46 38000     1]\n",
      " [    0    29 21000     0]\n",
      " [    0    21 41700     2]\n",
      " [    1    28 26100     0]\n",
      " [    1    43 41000     2]\n",
      " [    1    39 39700     2]\n",
      " [    1    25 38600     4]\n",
      " [    1    36 49700     1]\n",
      " [    1    32 51700     1]]\n"
     ]
    }
   ],
   "source": [
    "print(X_matrix[:10])"
   ]
  },
  {
   "cell_type": "markdown",
   "metadata": {},
   "source": [
    "Yes they have (been correctly put into the matrix)! "
   ]
  },
  {
   "cell_type": "markdown",
   "metadata": {},
   "source": [
    "Now let's generate a random matrix $P$."
   ]
  },
  {
   "cell_type": "code",
   "execution_count": 45,
   "metadata": {},
   "outputs": [],
   "source": [
    "rng = np.random.default_rng(seed = 42)\n",
    "P_matrix = rng.random(size = (X_matrix.shape[1], X_matrix.shape[1]))"
   ]
  },
  {
   "cell_type": "markdown",
   "metadata": {},
   "source": [
    "Is the matrix $P$ invertible?"
   ]
  },
  {
   "cell_type": "code",
   "execution_count": 46,
   "metadata": {},
   "outputs": [
    {
     "name": "stdout",
     "output_type": "stream",
     "text": [
      "The matrix P is:\n",
      "[[0.77395605 0.43887844 0.85859792 0.69736803]\n",
      " [0.09417735 0.97562235 0.7611397  0.78606431]\n",
      " [0.12811363 0.45038594 0.37079802 0.92676499]\n",
      " [0.64386512 0.82276161 0.4434142  0.22723872]]\n",
      "\n",
      "The (apparent) inverse of matrix P is:\n",
      "[[ 0.41467992 -1.43783972  0.62798546  1.14001268]\n",
      " [-1.06101789  0.44219337  0.1329549   1.18425933]\n",
      " [ 1.42362442  1.60461607 -2.0553823  -1.53699695]\n",
      " [-0.11128575 -0.65813802  1.74995517 -0.11816316]]\n"
     ]
    }
   ],
   "source": [
    "print('The matrix P is:')\n",
    "print(P_matrix)\n",
    "print()\n",
    "print('The (apparent) inverse of matrix P is:')\n",
    "print(np.linalg.inv(P_matrix))"
   ]
  },
  {
   "cell_type": "markdown",
   "metadata": {},
   "source": [
    "It appears as though $P$ is indeed invertible. If I now multiply $P$ by its apparent inverse, then I should get the identity matrix. (The identity matrix is the one where all of the numbers in the main diagonal are 1, and every other number is 0.)\n",
    "\n",
    "Oftentimes when doing this kind of operation, the numbers that are not in the main diagonal are not exactly 0, but rather extremely close to 0. The code below will print the product of the matrices in such a way that all the numbers are rounded to the nearest integer."
   ]
  },
  {
   "cell_type": "code",
   "execution_count": 47,
   "metadata": {},
   "outputs": [
    {
     "name": "stdout",
     "output_type": "stream",
     "text": [
      "The product of matrix P and its (apparent) inverse is:\n",
      "[[1 0 0 0]\n",
      " [0 1 0 0]\n",
      " [0 0 1 0]\n",
      " [0 0 0 1]]\n"
     ]
    }
   ],
   "source": [
    "np.set_printoptions(suppress = True)\n",
    "\n",
    "print('The product of matrix P and its (apparent) inverse is:')\n",
    "print(np.round(P_matrix @ np.linalg.inv(P_matrix)).astype(int))"
   ]
  },
  {
   "cell_type": "markdown",
   "metadata": {},
   "source": [
    "Excellent! I acquired the identity matrix, as I hoped I would!"
   ]
  },
  {
   "cell_type": "markdown",
   "metadata": {},
   "source": [
    "Can I guess the customers' ages or income after the transformation?\n",
    "\n",
    "Recall that I printed the first 10 rows of the matrix earlier. If the transformation works correctly, then it would be extremely difficult, if not impossible, to correctly guess the gender, age, income, and family members values of the first 10 rows, and really all of the rows, after the transformation."
   ]
  },
  {
   "cell_type": "code",
   "execution_count": 48,
   "metadata": {},
   "outputs": [
    {
     "name": "stdout",
     "output_type": "stream",
     "text": [
      "The first 10 rows of the matrix before the transformation:\n",
      "[[    1    41 49600     1]\n",
      " [    0    46 38000     1]\n",
      " [    0    29 21000     0]\n",
      " [    0    21 41700     2]\n",
      " [    1    28 26100     0]\n",
      " [    1    43 41000     2]\n",
      " [    1    39 39700     2]\n",
      " [    1    25 38600     4]\n",
      " [    1    36 49700     1]\n",
      " [    1    32 51700     1]]\n",
      "\n",
      "The first 10 rows of the matrix after the transformation:\n",
      "[[ 6359.71527314 22380.40467609 18424.09074184 46000.69669016]\n",
      " [ 4873.29406479 17160.36702982 14125.78076133 35253.45577301]\n",
      " [ 2693.11742928  9486.397744    7808.83156024 19484.86063067]\n",
      " [ 5345.60393712 18803.22720286 15479.14837264 38663.06186284]\n",
      " [ 3347.17673462 11782.82928336  9699.99894205 24211.27337753]\n",
      " [ 5258.77025195 18509.8596165  15237.19342704 38032.31715339]\n",
      " [ 5091.84582008 17920.45540783 14752.11143673 36824.37841067]\n",
      " [ 4950.8900715  17413.01768645 14334.46448264 35794.3865001 ]\n",
      " [ 6372.05574967 22420.56515812 18457.36484575 46089.44286752]\n",
      " [ 6627.90630563 23317.43454451 19195.91633541 47939.82858799]]\n"
     ]
    }
   ],
   "source": [
    "np.set_printoptions(suppress = False)\n",
    "\n",
    "print('The first 10 rows of the matrix before the transformation:')\n",
    "print(X_matrix[:10])\n",
    "print()\n",
    "print('The first 10 rows of the matrix after the transformation:')\n",
    "print((X_matrix @ P_matrix)[:10])"
   ]
  },
  {
   "cell_type": "markdown",
   "metadata": {},
   "source": [
    "Perfect! To give just one example of how difficult it now is to guess any of the features values of a customer, before the transformation 3 of the customers in the first 10 rows have a gender value of 0, and after the transformation the gender values of those 3 customers are now 4873.29406479, 2693.11742928, and 5345.60393712. I doubt anyone would recognize that those three very different numbers are actually associated with the same gender."
   ]
  },
  {
   "cell_type": "markdown",
   "metadata": {},
   "source": [
    "Can I recover the original data from $X'$ if I know $P$? I should be able to by multiplying $X'$ by the inverse of $P$."
   ]
  },
  {
   "cell_type": "code",
   "execution_count": 49,
   "metadata": {},
   "outputs": [
    {
     "name": "stdout",
     "output_type": "stream",
     "text": [
      "[[    1    41 49600     1]\n",
      " [    0    46 38000     1]\n",
      " [    0    29 21000     0]\n",
      " [    0    21 41700     2]\n",
      " [    1    28 26100     0]\n",
      " [    1    43 41000     2]\n",
      " [    1    39 39700     2]\n",
      " [    1    25 38600     4]\n",
      " [    1    36 49700     1]\n",
      " [    1    32 51700     1]]\n"
     ]
    }
   ],
   "source": [
    "np.set_printoptions(suppress = True)\n",
    "\n",
    "print(np.round(X_matrix @ P_matrix @ np.linalg.inv(P_matrix))[:10].astype(int))"
   ]
  },
  {
   "cell_type": "markdown",
   "metadata": {},
   "source": [
    "Excellent! I successfully recovered the first 10 rows of the original data, which suggests to me that I should be able to recover the whole matrix if need be."
   ]
  },
  {
   "cell_type": "markdown",
   "metadata": {},
   "source": [
    "Print all three cases for a few customers\n",
    "- The original data\n",
    "- The transformed one\n",
    "- The reversed (recovered) one"
   ]
  },
  {
   "cell_type": "markdown",
   "metadata": {},
   "source": [
    "Oh, I actually already did this. However, let's do it again without any rounding. Since the directions ask for only a \"few\" customers, let's look at the last 4."
   ]
  },
  {
   "cell_type": "code",
   "execution_count": 50,
   "metadata": {},
   "outputs": [
    {
     "name": "stdout",
     "output_type": "stream",
     "text": [
      "The last 4 rows of the original dataframe's features columns:\n",
      "      gender  age  income  family_members\n",
      "4843       0   34   52400               1\n",
      "4844       0   20   33900               2\n",
      "4845       1   22   32700               3\n",
      "4846       1   28   40600               1\n",
      "\n",
      "The last 4 rows of the matrix before the transformation:\n",
      "[[    0    34 52400     1]\n",
      " [    0    20 33900     2]\n",
      " [    1    22 32700     3]\n",
      " [    1    28 40600     1]]\n",
      "\n",
      "The last 4 rows of the matrix after the transformation:\n",
      "[[ 6717.00024715 23634.2170673  19456.13863385 48589.43884077]\n",
      " [ 4346.2234249  15289.24126492 12586.16264392 31433.50888552]\n",
      " [ 4194.09324155 14751.9910242  12144.02930637 30323.88763426]\n",
      " [ 5205.46827354 18314.24814446 15077.01370762 37649.59295455]]\n",
      "\n",
      "The last 4 rows of the matrix after reversing the transformation:\n",
      "[[-1.18234311e-11  3.40000000e+01  5.24000000e+04  1.00000000e+00]\n",
      " [ 9.09494702e-13  2.00000000e+01  3.39000000e+04  2.00000000e+00]\n",
      " [ 1.00000000e+00  2.20000000e+01  3.27000000e+04  3.00000000e+00]\n",
      " [ 1.00000000e+00  2.80000000e+01  4.06000000e+04  1.00000000e+00]]\n"
     ]
    }
   ],
   "source": [
    "np.set_printoptions(suppress = False)\n",
    "\n",
    "print('The last 4 rows of the original dataframe\\'s features columns:')\n",
    "print(main_df_pn.tail(4))\n",
    "print()\n",
    "print('The last 4 rows of the matrix before the transformation:')\n",
    "print(X_matrix[-4:])\n",
    "print()\n",
    "print('The last 4 rows of the matrix after the transformation:')\n",
    "print((X_matrix @ P_matrix)[-4:])\n",
    "print()\n",
    "print('The last 4 rows of the matrix after reversing the transformation:')\n",
    "print((X_matrix @ P_matrix @ np.linalg.inv(P_matrix))[-4:])"
   ]
  },
  {
   "cell_type": "markdown",
   "metadata": {},
   "source": [
    "You can probably see that some values are not exactly the same as they are in the original data. What might be the reason for that?"
   ]
  },
  {
   "cell_type": "markdown",
   "metadata": {},
   "source": [
    "Indeed, some of the values are not <b><i>exactly</b></i> the same, but they are similar enough that I should not be worried. I think some of the values are slightly off because the transformation caused many of the values of the matrix to go from being integers to floats that have many decimal places, and it is difficult to precisely multiply numbers that have so many decimal places."
   ]
  },
  {
   "cell_type": "markdown",
   "metadata": {},
   "source": [
    "<b>Proof That Data Obfuscation Can Work with Linear Regression</b> <a id = 6.1></a>"
   ]
  },
  {
   "cell_type": "markdown",
   "metadata": {},
   "source": [
    "The regression task has been solved with linear regression in this project. I must now prove <b>_analytically_</b> that the given obfuscation method won't affect the linear regression in terms of the predicted values (i.e. their values will remain the same)."
   ]
  },
  {
   "cell_type": "markdown",
   "metadata": {},
   "source": [
    "So, the data is obfuscated and there is $X \\times P$ instead of just $X$ now. Consequently, there are other weights $w_P$ as\n",
    "$$\n",
    "w = (X^T X)^{-1} X^T y \\quad \\Rightarrow \\quad w_P = [(XP)^T XP]^{-1} (XP)^T y\n",
    "$$"
   ]
  },
  {
   "cell_type": "markdown",
   "metadata": {},
   "source": [
    "How would $w$ and $w_P$ be linked if you simplify the formula for $w_P$ above? "
   ]
  },
  {
   "cell_type": "markdown",
   "metadata": {},
   "source": [
    "The proof begins with the assumption that $w_P = [(XP)^T XP]^{-1} (XP)^T y$"
   ]
  },
  {
   "cell_type": "markdown",
   "metadata": {},
   "source": [
    "I hope to show that $w$ and $w_P$ are linked by demonstrating that the expression for $w$ can be substituted into $w_P$ after using properties of matrices to rearrange the expression for $w_P$ in particular ways."
   ]
  },
  {
   "cell_type": "markdown",
   "metadata": {},
   "source": [
    "Since $(XP)^T$ = $P^TX^T$, then $w_P = [(XP)^T XP]^{-1} (XP)^T y = [P^TX^T XP]^{-1} P^TX^T y$"
   ]
  },
  {
   "cell_type": "markdown",
   "metadata": {},
   "source": [
    "Furthermore, $[P^TX^T XP]^{-1} = P^{-1}(X^T X)^{-1}(P^{T})^{-1}$ meaning $w_P = [P^TX^T XP]^{-1} P^TX^T y = P^{-1}(X^T X)^{-1}(P^{T})^{-1} P^TX^T y$"
   ]
  },
  {
   "cell_type": "markdown",
   "metadata": {},
   "source": [
    "Note that $(P^{T})^{-1} P^T = I$ (the identity matrix), which implies $w_P = P^{-1}(X^T X)^{-1}(P^{T})^{-1} P^TX^T y = P^{-1}(X^T X)^{-1}IX^T y = P^{-1}(X^T X)^{-1}X^T y$"
   ]
  },
  {
   "cell_type": "markdown",
   "metadata": {},
   "source": [
    "Next, I realized that because $w = (X^T X)^{-1} X^T y$ then $w_P = P^{-1}(X^T X)^{-1}X^T y = P^{-1}w$"
   ]
  },
  {
   "cell_type": "markdown",
   "metadata": {},
   "source": [
    "Therefore, I have demonstrated that $w$ and $w_P$ can be linked!"
   ]
  },
  {
   "cell_type": "markdown",
   "metadata": {},
   "source": [
    "What would be predicted values with $w_P$? "
   ]
  },
  {
   "cell_type": "markdown",
   "metadata": {},
   "source": [
    "Let's begin by mentioning that $A = Xw$ and $A′ = X′w_p$"
   ]
  },
  {
   "cell_type": "markdown",
   "metadata": {},
   "source": [
    "Since $X′ = XP$ (this was mentioned earlier) and $w_P = P^{-1}w$ then $A′ = X′w_p = XPP^{-1}w = Xw = A$"
   ]
  },
  {
   "cell_type": "markdown",
   "metadata": {},
   "source": [
    "What does that mean for the quality of linear regression if you measure it with RMSE?"
   ]
  },
  {
   "cell_type": "markdown",
   "metadata": {},
   "source": [
    "Since A and A′ are equal, then the RMSE (which was calculated in Task 3) for both the original and the transformed datasets will be the same."
   ]
  },
  {
   "cell_type": "markdown",
   "metadata": {},
   "source": [
    "<b>Test the Linear Regression With Data Obfuscation</b> <a id = 6.2></a>"
   ]
  },
  {
   "cell_type": "markdown",
   "metadata": {},
   "source": [
    "Now, let's prove Linear Regression can work computationally with the chosen obfuscation transformation.\n",
    "\n",
    "I will build a procedure that runs the Linear Regression optionally with the obfuscation.\n",
    "\n",
    "I will run a Linear Regression for both the original data and the obfuscated, then compare the predicted values, the RMSE values, and the $R^2$ metric values."
   ]
  },
  {
   "cell_type": "markdown",
   "metadata": {},
   "source": [
    "<u>Procedure</u>\n",
    "\n",
    "- Create a square matrix $P$ of random numbers.\n",
    "- Check that it is invertible. If not, repeat the first point until we get an invertible matrix.\n",
    "- Use $XP$ as the new feature matrix.\n",
    "- Test both the original data and the obfuscated data using a Linear Regression."
   ]
  },
  {
   "cell_type": "code",
   "execution_count": 51,
   "metadata": {},
   "outputs": [],
   "source": [
    "new_rng = np.random.default_rng(seed = 42)\n",
    "new_P_matrix = rng.random(size = (X_matrix.shape[1], X_matrix.shape[1]))"
   ]
  },
  {
   "cell_type": "code",
   "execution_count": 52,
   "metadata": {},
   "outputs": [
    {
     "name": "stdout",
     "output_type": "stream",
     "text": [
      "The (new) matrix P is:\n",
      "[[0.55458479 0.06381726 0.82763117 0.6316644 ]\n",
      " [0.75808774 0.35452597 0.97069802 0.89312112]\n",
      " [0.7783835  0.19463871 0.466721   0.04380377]\n",
      " [0.15428949 0.68304895 0.74476216 0.96750973]]\n",
      "\n",
      "The (apparent) inverse of (the new) matrix P is:\n",
      "[[-3.30407744  4.40917525 -0.27870525 -1.90039547]\n",
      " [-0.95858897 -1.33121709  1.62644533  1.78106755]\n",
      " [ 6.24868421 -7.35167522  2.19103126  2.60761164]\n",
      " [-3.6064091   5.89580272 -2.79039845 -1.92803822]]\n"
     ]
    }
   ],
   "source": [
    "print('The (new) matrix P is:')\n",
    "print(new_P_matrix)\n",
    "print()\n",
    "print('The (apparent) inverse of (the new) matrix P is:')\n",
    "print(np.linalg.inv(new_P_matrix))"
   ]
  },
  {
   "cell_type": "markdown",
   "metadata": {},
   "source": [
    "It does seem as though the new matrix $P$ is invertible. Let's see if the product of $P$ and its (apparent) inverse is the identity matrix (as it should be)."
   ]
  },
  {
   "cell_type": "code",
   "execution_count": 53,
   "metadata": {},
   "outputs": [
    {
     "name": "stdout",
     "output_type": "stream",
     "text": [
      "The product of (the new) matrix P and its (apparent) inverse is:\n",
      "[[1 0 0 0]\n",
      " [0 1 0 0]\n",
      " [0 0 1 0]\n",
      " [0 0 0 1]]\n"
     ]
    }
   ],
   "source": [
    "np.set_printoptions(suppress = True)\n",
    "\n",
    "print('The product of (the new) matrix P and its (apparent) inverse is:')\n",
    "print(np.round(new_P_matrix @ np.linalg.inv(new_P_matrix)).astype(int))"
   ]
  },
  {
   "cell_type": "markdown",
   "metadata": {},
   "source": [
    "Excellent! This confirms that I may use $XP$ as the new feature matrix!"
   ]
  },
  {
   "cell_type": "code",
   "execution_count": 54,
   "metadata": {},
   "outputs": [],
   "source": [
    "main_df_pn_new = main_df[features_names].copy()"
   ]
  },
  {
   "cell_type": "markdown",
   "metadata": {},
   "source": [
    "The features and the targets are the following:"
   ]
  },
  {
   "cell_type": "code",
   "execution_count": 55,
   "metadata": {},
   "outputs": [],
   "source": [
    "X_feature_new = main_df_pn_new.to_numpy()\n",
    "y_target_new = main_df['insurance_benefits'].to_numpy()"
   ]
  },
  {
   "cell_type": "markdown",
   "metadata": {},
   "source": [
    "Now I'm ready to use a Linear Regression on the original data."
   ]
  },
  {
   "cell_type": "code",
   "execution_count": 56,
   "metadata": {},
   "outputs": [
    {
     "name": "stdout",
     "output_type": "stream",
     "text": [
      "[-0.97736668  0.01955949  0.03580423  0.00000059 -0.01216184]\n",
      "RMSE: 0.36\n",
      "R2: 0.66\n"
     ]
    }
   ],
   "source": [
    "X_feature_new_train, X_feature_new_test, y_target_new_train, y_target_new_test = train_test_split(\n",
    "    X_feature_new, y_target_new, test_size = 0.3, random_state = 12345)\n",
    "\n",
    "new_lr_og_data = MyLinearRegression()\n",
    "new_lr_og_data.fit(X_feature_new_train, y_target_new_train)\n",
    "\n",
    "print(new_lr_og_data.weights)\n",
    "\n",
    "y_target_new_test_pred = new_lr_og_data.predict(X_feature_new_test)\n",
    "eval_regressor(y_target_new_test, y_target_new_test_pred)"
   ]
  },
  {
   "cell_type": "markdown",
   "metadata": {},
   "source": [
    "Let's see if I get the same RMSE and R2 values with the obfuscated data."
   ]
  },
  {
   "cell_type": "code",
   "execution_count": 57,
   "metadata": {},
   "outputs": [
    {
     "name": "stdout",
     "output_type": "stream",
     "text": [
      "[-0.9773666   0.11635627 -0.08807214 -0.17271779  0.16400536]\n",
      "RMSE: 0.36\n",
      "R2: 0.66\n"
     ]
    }
   ],
   "source": [
    "X_feature_new_prime = X_feature_new @ new_P_matrix\n",
    "\n",
    "X_feature_new_train_ob, X_feature_new_test_ob, y_target_new_train_ob, y_target_new_test_ob = train_test_split(\n",
    "    X_feature_new_prime, y_target_new, test_size = 0.3, random_state = 12345)\n",
    "\n",
    "new_lr_ob_data = MyLinearRegression()\n",
    "new_lr_ob_data.fit(X_feature_new_train_ob, y_target_new_train_ob)\n",
    "\n",
    "print(new_lr_ob_data.weights)\n",
    "\n",
    "y_target_new_test_ob_pred = new_lr_ob_data.predict(X_feature_new_test_ob)\n",
    "eval_regressor(y_target_new_test_ob, y_target_new_test_ob_pred)"
   ]
  },
  {
   "cell_type": "markdown",
   "metadata": {},
   "source": [
    "Fantastic! The fact that the RMSE and R2 values are the same implies that the data obfuscation does not impact the model's quality.\n",
    "\n",
    "This means that <u>Sure Tomorrow</u> is able to protect the personal details of its clients without needing to worry about this compromising the model's accuracy!"
   ]
  },
  {
   "cell_type": "markdown",
   "metadata": {},
   "source": [
    "# Conclusion <a id = 7></a>"
   ]
  },
  {
   "cell_type": "markdown",
   "metadata": {},
   "source": [
    "I have successfully solved all four tasks that <u>Sure Tomorrow</u> assigned me.\n",
    "\n",
    "<b>Task 1:</b> I wrote a function that returns the k nearest neighbors of a given customer. In particular, I discovered that scaling the data allows the function to make the distance between the 10 (if not more) nearest neighbors of a particular customer close to 0. This function will really help the company figure out how to effectively market its services to people of similar demographics.  \n",
    "\n",
    "<b>Task 2:</b> I successfully build a high-quality KNN-based classifier that can predict with a high degree of accuracy whether or not a new customer is likely to receive an insurance benefit. Specifically, when using the scaled data with the classifier, it has an F1 score at least 0.9 for all n_neighbors values between 1 and 10 inclusive. This is far superior to even the best dummy model, which has an F1 score of 0.21.\n",
    "\n",
    "<b>Task 3:</b> I used a linear regression model to predict the number of insurance benefits a new customer is likely to receive. The linear regression has an RMSE value of 0.36 (which is very small, as we would want it to be) and an R2 value of 0.66 (which is moderately large, also a good thing). These values were obtained regardless of whether the original or the scaled data was used.\n",
    "\n",
    "<b>Task 4:</b> I demonstrated that the linear regression model from Task 3 works equally as well after the customers' personal data received protection using data obfuscation as it did before. Thanks to the data obfuscation, it is now difficult for a malicious person or persons to acquire a customer's personal information if the data were to fall into their possession."
   ]
  },
  {
   "cell_type": "markdown",
   "metadata": {},
   "source": [
    "# Appendices <a id = 8></a>\n",
    "\n",
    "<b>Appendix A: Writing Formulas in Jupyter Notebooks</b>"
   ]
  },
  {
   "cell_type": "markdown",
   "metadata": {},
   "source": [
    "You can write formulas in your Jupyter Notebook in a markup language provided by a high-quality publishing system called $\\LaTeX$ (pronounced \"Lah-tech\"), and they will look like formulas in textbooks.\n",
    "\n",
    "To put a formula in a text, put the dollar sign (\\\\$) before and after the formula's text e.g. $\\frac{1}{2} \\times \\frac{3}{2} = \\frac{3}{4}$ or $y = x^2, x \\ge 1$.\n",
    "\n",
    "If a formula should be in its own paragraph, put the double dollar sign (\\\\$\\\\$) before and after the formula text e.g.\n",
    "\n",
    "$$\n",
    "\\bar{x} = \\frac{1}{n}\\sum_{i=1}^{n} x_i.\n",
    "$$\n",
    "\n",
    "The markup language of [LaTeX](https://en.wikipedia.org/wiki/LaTeX) is very popular among people who use formulas in their articles, books and texts. It can be complex but its basics are easy. Check this two page [cheatsheet](http://tug.ctan.org/info/undergradmath/undergradmath.pdf) for learning how to compose the most common formulas."
   ]
  },
  {
   "cell_type": "markdown",
   "metadata": {},
   "source": [
    "<b>Appendix B: Properties of Matrices</b>"
   ]
  },
  {
   "cell_type": "markdown",
   "metadata": {},
   "source": [
    "Matrices have many properties in Linear Algebra. A few of them are listed here which can help with the analytical proof in this project."
   ]
  },
  {
   "cell_type": "markdown",
   "metadata": {},
   "source": [
    "<table>\n",
    "<tr>\n",
    "<td>Distributivity</td><td>$A(B+C)=AB+AC$</td>\n",
    "</tr>\n",
    "<tr>\n",
    "<td>Non-commutativity</td><td>$AB \\neq BA$</td>\n",
    "</tr>\n",
    "<tr>\n",
    "<td>Associative property of multiplication</td><td>$(AB)C = A(BC)$</td>\n",
    "</tr>\n",
    "<tr>\n",
    "<td>Multiplicative identity property</td><td>$IA = AI = A$</td>\n",
    "</tr>\n",
    "<tr>\n",
    "<td></td><td>$A^{-1}A = AA^{-1} = I$\n",
    "</td>\n",
    "</tr>    \n",
    "<tr>\n",
    "<td></td><td>$(AB)^{-1} = B^{-1}A^{-1}$</td>\n",
    "</tr>    \n",
    "<tr>\n",
    "<td>Reversivity of the transpose of a product of matrices</td><td>$(AB)^T = B^TA^T$</td>\n",
    "</tr>    \n",
    "</table>"
   ]
  }
 ],
 "metadata": {
  "kernelspec": {
   "display_name": "Python 3 (ipykernel)",
   "language": "python",
   "name": "python3"
  },
  "language_info": {
   "codemirror_mode": {
    "name": "ipython",
    "version": 3
   },
   "file_extension": ".py",
   "mimetype": "text/x-python",
   "name": "python",
   "nbconvert_exporter": "python",
   "pygments_lexer": "ipython3",
   "version": "3.11.9"
  },
  "toc": {
   "base_numbering": 1,
   "nav_menu": {},
   "number_sections": true,
   "sideBar": true,
   "skip_h1_title": true,
   "title_cell": "Table of Contents",
   "title_sidebar": "Contents",
   "toc_cell": false,
   "toc_position": {},
   "toc_section_display": true,
   "toc_window_display": false
  }
 },
 "nbformat": 4,
 "nbformat_minor": 4
}
